{
  "cells": [
    {
      "cell_type": "code",
      "execution_count": 1,
      "metadata": {
        "id": "UJot31iPaKqk"
      },
      "outputs": [],
      "source": [
        "import zipfile\n",
        "import os\n",
        "import numpy as np\n",
        "import pandas as pd\n",
        "\n",
        "import matplotlib.pyplot as plt\n",
        "import sklearn\n",
        "import shutil\n",
        "import cv2\n",
        "from sklearn.model_selection import train_test_split\n",
        "\n",
        "import tensorflow as tf\n",
        "from tensorflow import keras\n",
        "from tensorflow.keras.layers import *\n",
        "from sklearn.metrics import classification_report\n",
        "from sklearn.model_selection import train_test_split\n",
        "from tensorflow.keras.preprocessing import image\n",
        "from tensorflow.keras.preprocessing.image import ImageDataGenerator\n",
        "from tensorflow.keras.models import Sequential\n",
        "from tensorflow.keras.layers import Conv2D, MaxPooling2D, Dense, Flatten, Dropout\n",
        "from tensorflow.keras.applications import MobileNetV2\n",
        "from tensorflow.keras.layers import GlobalAveragePooling2D, Dense\n",
        "from tensorflow.keras.models import Model\n",
        "from tensorflow.keras.models import load_model\n",
        "from sklearn.metrics import precision_score, accuracy_score,recall_score"
      ]
    },
    {
      "cell_type": "code",
      "execution_count": 2,
      "metadata": {},
      "outputs": [
        {
          "name": "stdout",
          "output_type": "stream",
          "text": [
            "Requirement already satisfied: kaggle in c:\\users\\angel\\anaconda3\\envs\\msc\\lib\\site-packages (1.5.16)\n",
            "Requirement already satisfied: six>=1.10 in c:\\users\\angel\\anaconda3\\envs\\msc\\lib\\site-packages (from kaggle) (1.16.0)\n",
            "Requirement already satisfied: certifi in c:\\users\\angel\\anaconda3\\envs\\msc\\lib\\site-packages (from kaggle) (2023.7.22)\n",
            "Requirement already satisfied: python-dateutil in c:\\users\\angel\\anaconda3\\envs\\msc\\lib\\site-packages (from kaggle) (2.8.2)\n",
            "Requirement already satisfied: requests in c:\\users\\angel\\anaconda3\\envs\\msc\\lib\\site-packages (from kaggle) (2.31.0)\n",
            "Requirement already satisfied: tqdm in c:\\users\\angel\\anaconda3\\envs\\msc\\lib\\site-packages (from kaggle) (4.66.1)\n",
            "Requirement already satisfied: python-slugify in c:\\users\\angel\\anaconda3\\envs\\msc\\lib\\site-packages (from kaggle) (8.0.1)\n",
            "Requirement already satisfied: urllib3 in c:\\users\\angel\\anaconda3\\envs\\msc\\lib\\site-packages (from kaggle) (1.26.16)\n",
            "Requirement already satisfied: bleach in c:\\users\\angel\\anaconda3\\envs\\msc\\lib\\site-packages (from kaggle) (6.0.0)\n",
            "Requirement already satisfied: webencodings in c:\\users\\angel\\anaconda3\\envs\\msc\\lib\\site-packages (from bleach->kaggle) (0.5.1)\n",
            "Requirement already satisfied: text-unidecode>=1.3 in c:\\users\\angel\\anaconda3\\envs\\msc\\lib\\site-packages (from python-slugify->kaggle) (1.3)\n",
            "Requirement already satisfied: charset-normalizer<4,>=2 in c:\\users\\angel\\anaconda3\\envs\\msc\\lib\\site-packages (from requests->kaggle) (3.2.0)\n",
            "Requirement already satisfied: idna<4,>=2.5 in c:\\users\\angel\\anaconda3\\envs\\msc\\lib\\site-packages (from requests->kaggle) (3.4)\n",
            "Requirement already satisfied: colorama in c:\\users\\angel\\anaconda3\\envs\\msc\\lib\\site-packages (from tqdm->kaggle) (0.4.6)\n"
          ]
        }
      ],
      "source": [
        "!pip install kaggle"
      ]
    },
    {
      "cell_type": "code",
      "execution_count": 5,
      "metadata": {
        "id": "xrQkbaQ4b6l-"
      },
      "outputs": [],
      "source": [
        "zip_path = 'fashion-product-images-dataset.zip'\n",
        "train_files_path = 'Train_Images'\n",
        "test_files_new_path = 'Test_Images_Actual'\n",
        "csv_path = 'Style_CSV'\n",
        "model_path = 'Model'\n"
      ]
    },
    {
      "cell_type": "code",
      "execution_count": 7,
      "metadata": {
        "id": "Cw4TSZx4dLkP"
      },
      "outputs": [],
      "source": [
        "import os\n",
        "import zipfile\n",
        "\n",
        "zip_path = 'fashion-product-images-dataset.zip'\n",
        "train_files_path = 'Train_Images'\n",
        "csv_path = 'Style_CSV'\n",
        "\n",
        "# Create directories if they don't exist\n",
        "if not os.path.exists(train_files_path):\n",
        "    os.makedirs(train_files_path)\n",
        "\n",
        "if not os.path.exists(csv_path):\n",
        "    os.makedirs(csv_path)\n",
        "\n",
        "with zipfile.ZipFile(zip_path, 'r') as zip_ref:\n",
        "    \n",
        "    for item in zip_ref.namelist():\n",
        "        \n",
        "        if item.endswith('.jpg'):  #Extract the .jpg images to folder\n",
        "            zip_ref.extract(item, train_files_path)\n",
        "\n",
        "        elif item.endswith('.csv'): #Extract the csv file to folder\n",
        "            zip_ref.extract(item, csv_path)\n",
        "\n",
        "        \n"
      ]
    },
    {
      "cell_type": "code",
      "execution_count": 8,
      "metadata": {
        "id": "QI0ejvWteBUq"
      },
      "outputs": [],
      "source": [
        "image_names = os.listdir('Train_Images/fashion-dataset/fashion-dataset/images/')# get list of all image names"
      ]
    },
    {
      "cell_type": "code",
      "execution_count": 9,
      "metadata": {
        "id": "xF1jmaa6fIHl"
      },
      "outputs": [],
      "source": [
        "image_names=sorted(image_names)"
      ]
    },
    {
      "cell_type": "code",
      "execution_count": 10,
      "metadata": {
        "colab": {
          "base_uri": "https://localhost:8080/"
        },
        "id": "GzrREKbFhnjp",
        "outputId": "4b877bba-9747-4e7e-9e39-8af131d2b3bd"
      },
      "outputs": [
        {
          "data": {
            "text/plain": [
              "44441"
            ]
          },
          "execution_count": 10,
          "metadata": {},
          "output_type": "execute_result"
        }
      ],
      "source": [
        "len(image_names)"
      ]
    },
    {
      "cell_type": "code",
      "execution_count": 13,
      "metadata": {
        "id": "6toq4ksTeJor"
      },
      "outputs": [
        {
          "name": "stdout",
          "output_type": "stream",
          "text": [
            "Line 6044 has 11 fields.\n",
            "Line 6569 has 11 fields.\n",
            "Line 7399 has 11 fields.\n",
            "Line 7939 has 11 fields.\n",
            "Line 9026 has 11 fields.\n",
            "Line 10264 has 11 fields.\n",
            "Line 10427 has 11 fields.\n",
            "Line 10905 has 11 fields.\n",
            "Line 11373 has 11 fields.\n",
            "Line 11945 has 11 fields.\n",
            "Line 14112 has 11 fields.\n",
            "Line 14532 has 11 fields.\n",
            "Line 15076 has 12 fields.\n",
            "Line 29906 has 11 fields.\n",
            "Line 31625 has 11 fields.\n",
            "Line 33020 has 11 fields.\n",
            "Line 35748 has 11 fields.\n",
            "Line 35962 has 11 fields.\n",
            "Line 37770 has 11 fields.\n",
            "Line 38105 has 11 fields.\n",
            "Line 38275 has 11 fields.\n",
            "Line 38404 has 12 fields.\n"
          ]
        }
      ],
      "source": [
        "\n",
        "with open('styles.csv', 'r') as file:\n",
        "    for i, line in enumerate(file):\n",
        "        if line.count(',') != 9:  # print lines in csv with more than 10 fields\n",
        "            print(f\"Line {i+1} has {line.count(',') + 1} fields.\")\n"
      ]
    },
    {
      "cell_type": "code",
      "execution_count": 14,
      "metadata": {},
      "outputs": [],
      "source": [
        "# problem lines\n",
        "problematic_lines = [\n",
        "    6044, 6569, 7399, 7939, 9026, 10264, 10427, 10905, 11373, 11945, \n",
        "    14112, 14532, 15076, 29906, 31625, 33020, 35748, 35962, 37770, \n",
        "    38105, 38275, 38404\n",
        "]\n",
        "\n",
        "# Open the original CSV file for reading\n",
        "with open('styles.csv', 'r') as file:\n",
        "    \n",
        "    with open('cleaned_styles.csv', 'w') as cleaned_file:\n",
        "        for i, line in enumerate(file):\n",
        "            #if line number is not problem , write to clean file\n",
        "            if i+1 not in problematic_lines:\n",
        "                cleaned_file.write(line)\n",
        "\n",
        "\n"
      ]
    },
    {
      "cell_type": "code",
      "execution_count": 15,
      "metadata": {},
      "outputs": [
        {
          "name": "stdout",
          "output_type": "stream",
          "text": [
            "Removed image: 23100.jpg\n",
            "Removed image: 23101.jpg\n",
            "Removed image: 23103.jpg\n",
            "Removed image: 23107.jpg\n",
            "Removed image: 23108.jpg\n",
            "Removed image: 23109.jpg\n",
            "Removed image: 23110.jpg\n",
            "Removed image: 23111.jpg\n",
            "Removed image: 23112.jpg\n",
            "Removed image: 23114.jpg\n",
            "Removed image: 23115.jpg\n",
            "Removed image: 23116.jpg\n",
            "Removed image: 23117.jpg\n",
            "Removed image: 23118.jpg\n",
            "Removed image: 23124.jpg\n",
            "Removed image: 23127.jpg\n",
            "Removed image: 3413.jpg\n",
            "Removed image: 3418.jpg\n",
            "Removed image: 3428.jpg\n",
            "Removed image: 44065.jpg\n",
            "Removed image: 4854.jpg\n",
            "Removed image: 59768.jpg\n",
            "All problematic images removed.\n"
          ]
        }
      ],
      "source": [
        "import os\n",
        "\n",
        "# List of problematic lines\n",
        "problematic_lines = [\n",
        "    6044, 6569, 7399, 7939, 9026, 10264, 10427, 10905, 11373, 11945, \n",
        "    14112, 14532, 15076, 29906, 31625, 33020, 35748, 35962, 37770, \n",
        "    38105, 38275, 38404\n",
        "]\n",
        "\n",
        "problematic_ids = []\n",
        "\n",
        "\n",
        "with open('styles.csv', 'r') as file:\n",
        "    for i, line in enumerate(file):\n",
        "        \n",
        "        if i+1 in problematic_lines:\n",
        "            problematic_id = line.split(',')[0]  \n",
        "            problematic_ids.append(problematic_id)\n",
        "\n",
        "# Remove images with problematic IDs \n",
        "image_directory = \"Train_Images\\\\fashion-dataset\\\\images\"\n",
        "\n",
        "for image_name in os.listdir(image_directory):\n",
        "    \n",
        "    image_id = image_name.split('.')[0]\n",
        "\n",
        "    if image_id in problematic_ids:\n",
        "        os.remove(os.path.join(image_directory, image_name)) # remove from image folder all the images corresponding to error rows\n",
        "        print(f\"Removed image: {image_name}\")\n",
        "\n",
        "print(\"All problematic images removed.\")\n"
      ]
    },
    {
      "cell_type": "code",
      "execution_count": 7,
      "metadata": {},
      "outputs": [],
      "source": [
        "train_styles_csv = pd.read_csv('cleaned_styles.csv')# dataframe for cleaned csv file\n"
      ]
    },
    {
      "cell_type": "code",
      "execution_count": 17,
      "metadata": {
        "colab": {
          "base_uri": "https://localhost:8080/"
        },
        "id": "5TvPWdMAhsfh",
        "outputId": "ec5443a3-f0e8-4ecc-cd32-8c0b9ef20cb3"
      },
      "outputs": [
        {
          "data": {
            "text/plain": [
              "44424"
            ]
          },
          "execution_count": 17,
          "metadata": {},
          "output_type": "execute_result"
        }
      ],
      "source": [
        "len(train_styles_csv)"
      ]
    },
    {
      "cell_type": "code",
      "execution_count": 8,
      "metadata": {
        "id": "btAUmEPTf1Oi"
      },
      "outputs": [],
      "source": [
        "train_styles_csv['id']=train_styles_csv['id'].astype(str) # change id column to str type "
      ]
    },
    {
      "cell_type": "code",
      "execution_count": 9,
      "metadata": {
        "id": "UvrGk-NEqyB2"
      },
      "outputs": [],
      "source": [
        "train_styles_csv['id']=train_styles_csv['id']+'.jpg' # add image extension "
      ]
    },
    {
      "cell_type": "code",
      "execution_count": 10,
      "metadata": {
        "id": "QCsflMs4f2rI"
      },
      "outputs": [],
      "source": [
        "sorted_train_csv = train_styles_csv.sort_values(by='id') # sort the train data for csv by id colun"
      ]
    },
    {
      "cell_type": "code",
      "execution_count": 21,
      "metadata": {
        "colab": {
          "base_uri": "https://localhost:8080/"
        },
        "id": "BDhr-rjghdyZ",
        "outputId": "fab598ac-caa9-4e10-c273-8801fc66b6f1"
      },
      "outputs": [
        {
          "data": {
            "text/plain": [
              "44424"
            ]
          },
          "execution_count": 21,
          "metadata": {},
          "output_type": "execute_result"
        }
      ],
      "source": [
        "len(sorted_train_csv)"
      ]
    },
    {
      "cell_type": "code",
      "execution_count": 22,
      "metadata": {
        "id": "P38i3QjzqHXd"
      },
      "outputs": [],
      "source": [
        "image_ids_from_csv = sorted_train_csv['id'].tolist()"
      ]
    },
    {
      "cell_type": "code",
      "execution_count": 23,
      "metadata": {
        "colab": {
          "base_uri": "https://localhost:8080/"
        },
        "id": "E2s9d1Qf1xPH",
        "outputId": "5ec69ae7-e444-4cd0-9f10-f0b62faf88c0"
      },
      "outputs": [
        {
          "data": {
            "text/plain": [
              "array(['Skirts', 'Tshirts', 'Shorts', 'Track Pants', 'Caps', 'Dresses',\n",
              "       'Jackets', 'Sweatshirts', 'Sports Shoes', 'Shirts', 'Tracksuits',\n",
              "       'Sandals', 'Flip Flops', 'Watches', 'Sports Sandals',\n",
              "       'Casual Shoes', 'Formal Shoes', 'Handbags', 'Trousers', 'Flats',\n",
              "       'Heels', 'Tops', 'Belts', 'Jeans', 'Tunics', 'Sweaters',\n",
              "       'Free Gifts', 'Capris', 'Bra', 'Backpacks', 'Leggings',\n",
              "       'Laptop Bag', 'Scarves', 'Ties', 'Churidar', 'Kurtas', 'Kurtis',\n",
              "       'Dupatta', 'Sarees', 'Suits', 'Socks', 'Wallets', 'Hat',\n",
              "       'Shoe Accessories', 'Waistcoat', 'Stoles', 'Messenger Bag',\n",
              "       'Kurta Sets', 'Waist Pouch', 'Rucksacks', 'Mufflers',\n",
              "       'Innerwear Vests', 'Lounge Shorts', 'Lounge Pants', 'Footballs',\n",
              "       'Cufflinks', 'Stockings', 'Sunglasses', 'Necklace and Chains',\n",
              "       'Bracelet', 'Umbrellas', 'Travel Accessory', 'Duffel Bag',\n",
              "       'Water Bottle', 'Briefs', 'Swimwear', 'Basketballs', 'Clutches',\n",
              "       'Accessory Gift Set', 'Headband', 'Trunk', 'Tights',\n",
              "       'Fragrance Gift Set', 'Perfume and Body Mist', 'Deodorant',\n",
              "       'Gloves', 'Boxers', 'Mobile Pouch', 'Shrug', 'Suspenders',\n",
              "       'Camisoles', 'Jeggings', 'Night suits', 'Blazers', 'Lehenga Choli',\n",
              "       'Salwar', 'Nehru Jackets', 'Patiala', 'Earrings', 'Pendant',\n",
              "       'Bangle', 'Clothing Set', 'Jumpsuit', 'Booties', 'Rompers',\n",
              "       'Ties and Cufflinks', 'Tablet Sleeve', 'Nightdress', 'Trolley Bag',\n",
              "       'Cushion Covers', 'Key chain', 'Jewellery Set', 'Wristbands',\n",
              "       'Body Wash and Scrub', 'Robe', 'Shapewear', 'Ipad', 'Ring',\n",
              "       'Nail Polish', 'Eyeshadow', 'Lipstick', 'Compact',\n",
              "       'Kajal and Eyeliner', 'Lip Liner', 'Foundation and Primer',\n",
              "       'Lip Plumper', 'Concealer', 'Lip Gloss', 'Highlighter and Blush',\n",
              "       'Salwar and Dupatta', 'Baby Dolls', 'Rain Jacket', 'Rain Trousers',\n",
              "       'Lounge Tshirts', 'Bath Robe', 'Mascara', 'Face Wash and Cleanser',\n",
              "       'Face Moisturisers', 'Eye Cream', 'Beauty Accessory',\n",
              "       'Nail Essentials', 'Makeup Remover', 'Lip Care', 'Sunscreen',\n",
              "       'Hair Colour', 'Toner', 'Mens Grooming Kit', 'Body Lotion',\n",
              "       'Face Scrub and Exfoliator', 'Mask and Peel', 'Face Serum and Gel',\n",
              "       'Hair Accessory', 'Shoe Laces'], dtype=object)"
            ]
          },
          "execution_count": 23,
          "metadata": {},
          "output_type": "execute_result"
        }
      ],
      "source": [
        "csv_unq=sorted_train_csv['articleType'].unique() # get all class names\n",
        "csv_unq"
      ]
    },
    {
      "cell_type": "code",
      "execution_count": 24,
      "metadata": {
        "id": "lfcYsiSMqOM-"
      },
      "outputs": [],
      "source": [
        "image_names_set = set(image_names)\n",
        "image_ids_set = set(image_ids_from_csv)"
      ]
    },
    {
      "cell_type": "code",
      "execution_count": 25,
      "metadata": {
        "colab": {
          "base_uri": "https://localhost:8080/"
        },
        "id": "bwqnFkpqqTQZ",
        "outputId": "1df88262-e2e3-4a38-ae4f-ab67f153e691"
      },
      "outputs": [
        {
          "name": "stdout",
          "output_type": "stream",
          "text": [
            "Extra Image IDs: {'12347.jpg', '39425.jpg', '39403.jpg', '39410.jpg', '39401.jpg'}\n"
          ]
        }
      ],
      "source": [
        "extra_image_ids = image_ids_set - image_names_set\n",
        "\n",
        "print(\"Extra Image IDs:\", extra_image_ids) # get image ids which are in csv file but not in image folder\n"
      ]
    },
    {
      "cell_type": "code",
      "execution_count": 26,
      "metadata": {
        "colab": {
          "base_uri": "https://localhost:8080/",
          "height": 36
        },
        "id": "uficH6GagKz8",
        "outputId": "944a1e63-b1c9-4bc3-9063-688e6c189aa3"
      },
      "outputs": [
        {
          "data": {
            "text/plain": [
              "1868     10000.jpg\n",
              "4897     10001.jpg\n",
              "26042    10002.jpg\n",
              "22373    10003.jpg\n",
              "22648    10004.jpg\n",
              "           ...    \n",
              "35067     9995.jpg\n",
              "11752     9996.jpg\n",
              "14818     9997.jpg\n",
              "12137     9998.jpg\n",
              "13982     9999.jpg\n",
              "Name: id, Length: 44424, dtype: object"
            ]
          },
          "execution_count": 26,
          "metadata": {},
          "output_type": "execute_result"
        }
      ],
      "source": [
        "sorted_train_csv['id']"
      ]
    },
    {
      "cell_type": "code",
      "execution_count": 27,
      "metadata": {
        "id": "uKaE-0lYgd-B"
      },
      "outputs": [
        {
          "data": {
            "text/html": [
              "<div>\n",
              "<style scoped>\n",
              "    .dataframe tbody tr th:only-of-type {\n",
              "        vertical-align: middle;\n",
              "    }\n",
              "\n",
              "    .dataframe tbody tr th {\n",
              "        vertical-align: top;\n",
              "    }\n",
              "\n",
              "    .dataframe thead th {\n",
              "        text-align: right;\n",
              "    }\n",
              "</style>\n",
              "<table border=\"1\" class=\"dataframe\">\n",
              "  <thead>\n",
              "    <tr style=\"text-align: right;\">\n",
              "      <th></th>\n",
              "      <th>id</th>\n",
              "      <th>gender</th>\n",
              "      <th>masterCategory</th>\n",
              "      <th>subCategory</th>\n",
              "      <th>articleType</th>\n",
              "      <th>baseColour</th>\n",
              "      <th>season</th>\n",
              "      <th>year</th>\n",
              "      <th>usage</th>\n",
              "      <th>productDisplayName</th>\n",
              "    </tr>\n",
              "  </thead>\n",
              "  <tbody>\n",
              "    <tr>\n",
              "      <th>1868</th>\n",
              "      <td>10000.jpg</td>\n",
              "      <td>Women</td>\n",
              "      <td>Apparel</td>\n",
              "      <td>Bottomwear</td>\n",
              "      <td>Skirts</td>\n",
              "      <td>White</td>\n",
              "      <td>Summer</td>\n",
              "      <td>2011.0</td>\n",
              "      <td>Casual</td>\n",
              "      <td>Palm Tree Girls Sp Jace Sko White Skirts</td>\n",
              "    </tr>\n",
              "    <tr>\n",
              "      <th>4897</th>\n",
              "      <td>10001.jpg</td>\n",
              "      <td>Women</td>\n",
              "      <td>Apparel</td>\n",
              "      <td>Bottomwear</td>\n",
              "      <td>Skirts</td>\n",
              "      <td>Blue</td>\n",
              "      <td>Summer</td>\n",
              "      <td>2011.0</td>\n",
              "      <td>Casual</td>\n",
              "      <td>Palm Tree Kids Girls Sp Jema Skt Blue Skirts</td>\n",
              "    </tr>\n",
              "    <tr>\n",
              "      <th>26042</th>\n",
              "      <td>10002.jpg</td>\n",
              "      <td>Women</td>\n",
              "      <td>Apparel</td>\n",
              "      <td>Bottomwear</td>\n",
              "      <td>Skirts</td>\n",
              "      <td>Blue</td>\n",
              "      <td>Summer</td>\n",
              "      <td>2011.0</td>\n",
              "      <td>Casual</td>\n",
              "      <td>Palm Tree Kids Sp Jema Skt Blue Skirts</td>\n",
              "    </tr>\n",
              "    <tr>\n",
              "      <th>22373</th>\n",
              "      <td>10003.jpg</td>\n",
              "      <td>Women</td>\n",
              "      <td>Apparel</td>\n",
              "      <td>Topwear</td>\n",
              "      <td>Tshirts</td>\n",
              "      <td>White</td>\n",
              "      <td>Fall</td>\n",
              "      <td>2011.0</td>\n",
              "      <td>Sports</td>\n",
              "      <td>Nike Women As Nike Eleme White T-Shirt</td>\n",
              "    </tr>\n",
              "    <tr>\n",
              "      <th>22648</th>\n",
              "      <td>10004.jpg</td>\n",
              "      <td>Men</td>\n",
              "      <td>Apparel</td>\n",
              "      <td>Bottomwear</td>\n",
              "      <td>Shorts</td>\n",
              "      <td>Grey</td>\n",
              "      <td>Fall</td>\n",
              "      <td>2011.0</td>\n",
              "      <td>Sports</td>\n",
              "      <td>Nike Men As 7 Sw Temp Grey Shorts</td>\n",
              "    </tr>\n",
              "  </tbody>\n",
              "</table>\n",
              "</div>"
            ],
            "text/plain": [
              "              id gender masterCategory subCategory articleType baseColour  \\\n",
              "1868   10000.jpg  Women        Apparel  Bottomwear      Skirts      White   \n",
              "4897   10001.jpg  Women        Apparel  Bottomwear      Skirts       Blue   \n",
              "26042  10002.jpg  Women        Apparel  Bottomwear      Skirts       Blue   \n",
              "22373  10003.jpg  Women        Apparel     Topwear     Tshirts      White   \n",
              "22648  10004.jpg    Men        Apparel  Bottomwear      Shorts       Grey   \n",
              "\n",
              "       season    year   usage                            productDisplayName  \n",
              "1868   Summer  2011.0  Casual      Palm Tree Girls Sp Jace Sko White Skirts  \n",
              "4897   Summer  2011.0  Casual  Palm Tree Kids Girls Sp Jema Skt Blue Skirts  \n",
              "26042  Summer  2011.0  Casual        Palm Tree Kids Sp Jema Skt Blue Skirts  \n",
              "22373    Fall  2011.0  Sports        Nike Women As Nike Eleme White T-Shirt  \n",
              "22648    Fall  2011.0  Sports             Nike Men As 7 Sw Temp Grey Shorts  "
            ]
          },
          "execution_count": 27,
          "metadata": {},
          "output_type": "execute_result"
        }
      ],
      "source": [
        "sorted_train_csv.head()# print header columns of csv"
      ]
    },
    {
      "cell_type": "code",
      "execution_count": 28,
      "metadata": {},
      "outputs": [
        {
          "name": "stdout",
          "output_type": "stream",
          "text": [
            "Downloading data from https://storage.googleapis.com/tensorflow/keras-applications/mobilenet_v2/mobilenet_v2_weights_tf_dim_ordering_tf_kernels_1.0_224_no_top.h5\n",
            "9406464/9406464 [==============================] - 3s 0us/step\n"
          ]
        }
      ],
      "source": [
        "from keras.applications import MobileNetV2\n",
        "from keras.models import Model\n",
        "from keras.layers import GlobalAveragePooling2D, Dense\n",
        "\n",
        "# Load model\n",
        "base_model = MobileNetV2(weights='imagenet', include_top=False, input_shape=(224, 224, 3))# initialize the model\n",
        "# top layer disabled to add own custom layers and dense layer with 142 predictions\n",
        "\n",
        "for layer in base_model.layers:\n",
        "    layer.trainable = False\n",
        "\n",
        "\n",
        "x = base_model.output\n",
        "x = GlobalAveragePooling2D()(x)\n",
        "x = Dense(256, activation='relu')(x)\n",
        "predictions = Dense(142, activation='softmax')(x)  #142 classes\n"
      ]
    },
    {
      "cell_type": "code",
      "execution_count": 29,
      "metadata": {},
      "outputs": [
        {
          "name": "stdout",
          "output_type": "stream",
          "text": [
            "Model: \"model\"\n",
            "__________________________________________________________________________________________________\n",
            " Layer (type)                Output Shape                 Param #   Connected to                  \n",
            "==================================================================================================\n",
            " input_1 (InputLayer)        [(None, 224, 224, 3)]        0         []                            \n",
            "                                                                                                  \n",
            " Conv1 (Conv2D)              (None, 112, 112, 32)         864       ['input_1[0][0]']             \n",
            "                                                                                                  \n",
            " bn_Conv1 (BatchNormalizati  (None, 112, 112, 32)         128       ['Conv1[0][0]']               \n",
            " on)                                                                                              \n",
            "                                                                                                  \n",
            " Conv1_relu (ReLU)           (None, 112, 112, 32)         0         ['bn_Conv1[0][0]']            \n",
            "                                                                                                  \n",
            " expanded_conv_depthwise (D  (None, 112, 112, 32)         288       ['Conv1_relu[0][0]']          \n",
            " epthwiseConv2D)                                                                                  \n",
            "                                                                                                  \n",
            " expanded_conv_depthwise_BN  (None, 112, 112, 32)         128       ['expanded_conv_depthwise[0][0\n",
            "  (BatchNormalization)                                              ]']                           \n",
            "                                                                                                  \n",
            " expanded_conv_depthwise_re  (None, 112, 112, 32)         0         ['expanded_conv_depthwise_BN[0\n",
            " lu (ReLU)                                                          ][0]']                        \n",
            "                                                                                                  \n",
            " expanded_conv_project (Con  (None, 112, 112, 16)         512       ['expanded_conv_depthwise_relu\n",
            " v2D)                                                               [0][0]']                      \n",
            "                                                                                                  \n",
            " expanded_conv_project_BN (  (None, 112, 112, 16)         64        ['expanded_conv_project[0][0]'\n",
            " BatchNormalization)                                                ]                             \n",
            "                                                                                                  \n",
            " block_1_expand (Conv2D)     (None, 112, 112, 96)         1536      ['expanded_conv_project_BN[0][\n",
            "                                                                    0]']                          \n",
            "                                                                                                  \n"
          ]
        },
        {
          "name": "stdout",
          "output_type": "stream",
          "text": [
            " block_1_expand_BN (BatchNo  (None, 112, 112, 96)         384       ['block_1_expand[0][0]']      \n",
            " rmalization)                                                                                     \n",
            "                                                                                                  \n",
            " block_1_expand_relu (ReLU)  (None, 112, 112, 96)         0         ['block_1_expand_BN[0][0]']   \n",
            "                                                                                                  \n",
            " block_1_pad (ZeroPadding2D  (None, 113, 113, 96)         0         ['block_1_expand_relu[0][0]'] \n",
            " )                                                                                                \n",
            "                                                                                                  \n",
            " block_1_depthwise (Depthwi  (None, 56, 56, 96)           864       ['block_1_pad[0][0]']         \n",
            " seConv2D)                                                                                        \n",
            "                                                                                                  \n",
            " block_1_depthwise_BN (Batc  (None, 56, 56, 96)           384       ['block_1_depthwise[0][0]']   \n",
            " hNormalization)                                                                                  \n",
            "                                                                                                  \n",
            " block_1_depthwise_relu (Re  (None, 56, 56, 96)           0         ['block_1_depthwise_BN[0][0]']\n",
            " LU)                                                                                              \n",
            "                                                                                                  \n",
            " block_1_project (Conv2D)    (None, 56, 56, 24)           2304      ['block_1_depthwise_relu[0][0]\n",
            "                                                                    ']                            \n",
            "                                                                                                  \n",
            " block_1_project_BN (BatchN  (None, 56, 56, 24)           96        ['block_1_project[0][0]']     \n",
            " ormalization)                                                                                    \n",
            "                                                                                                  \n",
            " block_2_expand (Conv2D)     (None, 56, 56, 144)          3456      ['block_1_project_BN[0][0]']  \n",
            "                                                                                                  \n",
            " block_2_expand_BN (BatchNo  (None, 56, 56, 144)          576       ['block_2_expand[0][0]']      \n",
            " rmalization)                                                                                     \n",
            "                                                                                                  \n",
            " block_2_expand_relu (ReLU)  (None, 56, 56, 144)          0         ['block_2_expand_BN[0][0]']   \n",
            "                                                                                                  \n",
            " block_2_depthwise (Depthwi  (None, 56, 56, 144)          1296      ['block_2_expand_relu[0][0]'] \n",
            " seConv2D)                                                                                        \n",
            "                                                                                                  \n",
            " block_2_depthwise_BN (Batc  (None, 56, 56, 144)          576       ['block_2_depthwise[0][0]']   \n",
            " hNormalization)                                                                                  \n",
            "                                                                                                  \n",
            " block_2_depthwise_relu (Re  (None, 56, 56, 144)          0         ['block_2_depthwise_BN[0][0]']\n",
            " LU)                                                                                              \n",
            "                                                                                                  \n",
            " block_2_project (Conv2D)    (None, 56, 56, 24)           3456      ['block_2_depthwise_relu[0][0]\n",
            "                                                                    ']                            \n",
            "                                                                                                  \n",
            " block_2_project_BN (BatchN  (None, 56, 56, 24)           96        ['block_2_project[0][0]']     \n",
            " ormalization)                                                                                    \n",
            "                                                                                                  \n",
            " block_2_add (Add)           (None, 56, 56, 24)           0         ['block_1_project_BN[0][0]',  \n",
            "                                                                     'block_2_project_BN[0][0]']  \n",
            "                                                                                                  \n",
            " block_3_expand (Conv2D)     (None, 56, 56, 144)          3456      ['block_2_add[0][0]']         \n",
            "                                                                                                  \n",
            " block_3_expand_BN (BatchNo  (None, 56, 56, 144)          576       ['block_3_expand[0][0]']      \n",
            " rmalization)                                                                                     \n",
            "                                                                                                  \n",
            " block_3_expand_relu (ReLU)  (None, 56, 56, 144)          0         ['block_3_expand_BN[0][0]']   \n",
            "                                                                                                  \n",
            " block_3_pad (ZeroPadding2D  (None, 57, 57, 144)          0         ['block_3_expand_relu[0][0]'] \n",
            " )                                                                                                \n",
            "                                                                                                  \n",
            " block_3_depthwise (Depthwi  (None, 28, 28, 144)          1296      ['block_3_pad[0][0]']         \n",
            " seConv2D)                                                                                        \n",
            "                                                                                                  \n",
            " block_3_depthwise_BN (Batc  (None, 28, 28, 144)          576       ['block_3_depthwise[0][0]']   \n",
            " hNormalization)                                                                                  \n",
            "                                                                                                  \n",
            " block_3_depthwise_relu (Re  (None, 28, 28, 144)          0         ['block_3_depthwise_BN[0][0]']\n",
            " LU)                                                                                              \n",
            "                                                                                                  \n",
            " block_3_project (Conv2D)    (None, 28, 28, 32)           4608      ['block_3_depthwise_relu[0][0]\n",
            "                                                                    ']                            \n",
            "                                                                                                  \n",
            " block_3_project_BN (BatchN  (None, 28, 28, 32)           128       ['block_3_project[0][0]']     \n",
            " ormalization)                                                                                    \n",
            "                                                                                                  \n",
            " block_4_expand (Conv2D)     (None, 28, 28, 192)          6144      ['block_3_project_BN[0][0]']  \n",
            "                                                                                                  \n",
            " block_4_expand_BN (BatchNo  (None, 28, 28, 192)          768       ['block_4_expand[0][0]']      \n",
            " rmalization)                                                                                     \n",
            "                                                                                                  \n",
            " block_4_expand_relu (ReLU)  (None, 28, 28, 192)          0         ['block_4_expand_BN[0][0]']   \n",
            "                                                                                                  \n",
            " block_4_depthwise (Depthwi  (None, 28, 28, 192)          1728      ['block_4_expand_relu[0][0]'] \n",
            " seConv2D)                                                                                        \n",
            "                                                                                                  \n",
            " block_4_depthwise_BN (Batc  (None, 28, 28, 192)          768       ['block_4_depthwise[0][0]']   \n",
            " hNormalization)                                                                                  \n",
            "                                                                                                  \n",
            " block_4_depthwise_relu (Re  (None, 28, 28, 192)          0         ['block_4_depthwise_BN[0][0]']\n",
            " LU)                                                                                              \n",
            "                                                                                                  \n",
            " block_4_project (Conv2D)    (None, 28, 28, 32)           6144      ['block_4_depthwise_relu[0][0]\n",
            "                                                                    ']                            \n",
            "                                                                                                  \n",
            " block_4_project_BN (BatchN  (None, 28, 28, 32)           128       ['block_4_project[0][0]']     \n",
            " ormalization)                                                                                    \n",
            "                                                                                                  \n",
            " block_4_add (Add)           (None, 28, 28, 32)           0         ['block_3_project_BN[0][0]',  \n",
            "                                                                     'block_4_project_BN[0][0]']  \n",
            "                                                                                                  \n",
            " block_5_expand (Conv2D)     (None, 28, 28, 192)          6144      ['block_4_add[0][0]']         \n",
            "                                                                                                  \n",
            " block_5_expand_BN (BatchNo  (None, 28, 28, 192)          768       ['block_5_expand[0][0]']      \n",
            " rmalization)                                                                                     \n",
            "                                                                                                  \n",
            " block_5_expand_relu (ReLU)  (None, 28, 28, 192)          0         ['block_5_expand_BN[0][0]']   \n",
            "                                                                                                  \n",
            " block_5_depthwise (Depthwi  (None, 28, 28, 192)          1728      ['block_5_expand_relu[0][0]'] \n",
            " seConv2D)                                                                                        \n",
            "                                                                                                  \n",
            " block_5_depthwise_BN (Batc  (None, 28, 28, 192)          768       ['block_5_depthwise[0][0]']   \n",
            " hNormalization)                                                                                  \n",
            "                                                                                                  \n",
            " block_5_depthwise_relu (Re  (None, 28, 28, 192)          0         ['block_5_depthwise_BN[0][0]']\n",
            " LU)                                                                                              \n",
            "                                                                                                  \n",
            " block_5_project (Conv2D)    (None, 28, 28, 32)           6144      ['block_5_depthwise_relu[0][0]\n",
            "                                                                    ']                            \n",
            "                                                                                                  \n",
            " block_5_project_BN (BatchN  (None, 28, 28, 32)           128       ['block_5_project[0][0]']     \n",
            " ormalization)                                                                                    \n",
            "                                                                                                  \n",
            " block_5_add (Add)           (None, 28, 28, 32)           0         ['block_4_add[0][0]',         \n",
            "                                                                     'block_5_project_BN[0][0]']  \n",
            "                                                                                                  \n",
            " block_6_expand (Conv2D)     (None, 28, 28, 192)          6144      ['block_5_add[0][0]']         \n",
            "                                                                                                  \n",
            " block_6_expand_BN (BatchNo  (None, 28, 28, 192)          768       ['block_6_expand[0][0]']      \n",
            " rmalization)                                                                                     \n",
            "                                                                                                  \n",
            " block_6_expand_relu (ReLU)  (None, 28, 28, 192)          0         ['block_6_expand_BN[0][0]']   \n",
            "                                                                                                  \n",
            " block_6_pad (ZeroPadding2D  (None, 29, 29, 192)          0         ['block_6_expand_relu[0][0]'] \n",
            " )                                                                                                \n",
            "                                                                                                  \n",
            " block_6_depthwise (Depthwi  (None, 14, 14, 192)          1728      ['block_6_pad[0][0]']         \n",
            " seConv2D)                                                                                        \n",
            "                                                                                                  \n",
            " block_6_depthwise_BN (Batc  (None, 14, 14, 192)          768       ['block_6_depthwise[0][0]']   \n",
            " hNormalization)                                                                                  \n",
            "                                                                                                  \n",
            " block_6_depthwise_relu (Re  (None, 14, 14, 192)          0         ['block_6_depthwise_BN[0][0]']\n",
            " LU)                                                                                              \n",
            "                                                                                                  \n",
            " block_6_project (Conv2D)    (None, 14, 14, 64)           12288     ['block_6_depthwise_relu[0][0]\n",
            "                                                                    ']                            \n",
            "                                                                                                  \n",
            " block_6_project_BN (BatchN  (None, 14, 14, 64)           256       ['block_6_project[0][0]']     \n",
            " ormalization)                                                                                    \n",
            "                                                                                                  \n",
            " block_7_expand (Conv2D)     (None, 14, 14, 384)          24576     ['block_6_project_BN[0][0]']  \n",
            "                                                                                                  \n",
            " block_7_expand_BN (BatchNo  (None, 14, 14, 384)          1536      ['block_7_expand[0][0]']      \n",
            " rmalization)                                                                                     \n",
            "                                                                                                  \n",
            " block_7_expand_relu (ReLU)  (None, 14, 14, 384)          0         ['block_7_expand_BN[0][0]']   \n",
            "                                                                                                  \n",
            " block_7_depthwise (Depthwi  (None, 14, 14, 384)          3456      ['block_7_expand_relu[0][0]'] \n",
            " seConv2D)                                                                                        \n",
            "                                                                                                  \n",
            " block_7_depthwise_BN (Batc  (None, 14, 14, 384)          1536      ['block_7_depthwise[0][0]']   \n",
            " hNormalization)                                                                                  \n",
            "                                                                                                  \n",
            " block_7_depthwise_relu (Re  (None, 14, 14, 384)          0         ['block_7_depthwise_BN[0][0]']\n",
            " LU)                                                                                              \n",
            "                                                                                                  \n",
            " block_7_project (Conv2D)    (None, 14, 14, 64)           24576     ['block_7_depthwise_relu[0][0]\n",
            "                                                                    ']                            \n",
            "                                                                                                  \n",
            " block_7_project_BN (BatchN  (None, 14, 14, 64)           256       ['block_7_project[0][0]']     \n",
            " ormalization)                                                                                    \n",
            "                                                                                                  \n",
            " block_7_add (Add)           (None, 14, 14, 64)           0         ['block_6_project_BN[0][0]',  \n",
            "                                                                     'block_7_project_BN[0][0]']  \n",
            "                                                                                                  \n",
            " block_8_expand (Conv2D)     (None, 14, 14, 384)          24576     ['block_7_add[0][0]']         \n",
            "                                                                                                  \n",
            " block_8_expand_BN (BatchNo  (None, 14, 14, 384)          1536      ['block_8_expand[0][0]']      \n",
            " rmalization)                                                                                     \n",
            "                                                                                                  \n",
            " block_8_expand_relu (ReLU)  (None, 14, 14, 384)          0         ['block_8_expand_BN[0][0]']   \n",
            "                                                                                                  \n",
            " block_8_depthwise (Depthwi  (None, 14, 14, 384)          3456      ['block_8_expand_relu[0][0]'] \n",
            " seConv2D)                                                                                        \n",
            "                                                                                                  \n",
            " block_8_depthwise_BN (Batc  (None, 14, 14, 384)          1536      ['block_8_depthwise[0][0]']   \n",
            " hNormalization)                                                                                  \n",
            "                                                                                                  \n",
            " block_8_depthwise_relu (Re  (None, 14, 14, 384)          0         ['block_8_depthwise_BN[0][0]']\n",
            " LU)                                                                                              \n",
            "                                                                                                  \n",
            " block_8_project (Conv2D)    (None, 14, 14, 64)           24576     ['block_8_depthwise_relu[0][0]\n",
            "                                                                    ']                            \n",
            "                                                                                                  \n",
            " block_8_project_BN (BatchN  (None, 14, 14, 64)           256       ['block_8_project[0][0]']     \n",
            " ormalization)                                                                                    \n",
            "                                                                                                  \n",
            " block_8_add (Add)           (None, 14, 14, 64)           0         ['block_7_add[0][0]',         \n",
            "                                                                     'block_8_project_BN[0][0]']  \n",
            "                                                                                                  \n",
            " block_9_expand (Conv2D)     (None, 14, 14, 384)          24576     ['block_8_add[0][0]']         \n",
            "                                                                                                  \n",
            " block_9_expand_BN (BatchNo  (None, 14, 14, 384)          1536      ['block_9_expand[0][0]']      \n",
            " rmalization)                                                                                     \n",
            "                                                                                                  \n",
            " block_9_expand_relu (ReLU)  (None, 14, 14, 384)          0         ['block_9_expand_BN[0][0]']   \n",
            "                                                                                                  \n",
            " block_9_depthwise (Depthwi  (None, 14, 14, 384)          3456      ['block_9_expand_relu[0][0]'] \n",
            " seConv2D)                                                                                        \n",
            "                                                                                                  \n",
            " block_9_depthwise_BN (Batc  (None, 14, 14, 384)          1536      ['block_9_depthwise[0][0]']   \n",
            " hNormalization)                                                                                  \n",
            "                                                                                                  \n",
            " block_9_depthwise_relu (Re  (None, 14, 14, 384)          0         ['block_9_depthwise_BN[0][0]']\n",
            " LU)                                                                                              \n",
            "                                                                                                  \n",
            " block_9_project (Conv2D)    (None, 14, 14, 64)           24576     ['block_9_depthwise_relu[0][0]\n",
            "                                                                    ']                            \n",
            "                                                                                                  \n",
            " block_9_project_BN (BatchN  (None, 14, 14, 64)           256       ['block_9_project[0][0]']     \n",
            " ormalization)                                                                                    \n",
            "                                                                                                  \n",
            " block_9_add (Add)           (None, 14, 14, 64)           0         ['block_8_add[0][0]',         \n",
            "                                                                     'block_9_project_BN[0][0]']  \n",
            "                                                                                                  \n",
            " block_10_expand (Conv2D)    (None, 14, 14, 384)          24576     ['block_9_add[0][0]']         \n",
            "                                                                                                  \n",
            " block_10_expand_BN (BatchN  (None, 14, 14, 384)          1536      ['block_10_expand[0][0]']     \n",
            " ormalization)                                                                                    \n",
            "                                                                                                  \n",
            " block_10_expand_relu (ReLU  (None, 14, 14, 384)          0         ['block_10_expand_BN[0][0]']  \n",
            " )                                                                                                \n",
            "                                                                                                  \n",
            " block_10_depthwise (Depthw  (None, 14, 14, 384)          3456      ['block_10_expand_relu[0][0]']\n",
            " iseConv2D)                                                                                       \n",
            "                                                                                                  \n",
            " block_10_depthwise_BN (Bat  (None, 14, 14, 384)          1536      ['block_10_depthwise[0][0]']  \n",
            " chNormalization)                                                                                 \n",
            "                                                                                                  \n",
            " block_10_depthwise_relu (R  (None, 14, 14, 384)          0         ['block_10_depthwise_BN[0][0]'\n",
            " eLU)                                                               ]                             \n",
            "                                                                                                  \n",
            " block_10_project (Conv2D)   (None, 14, 14, 96)           36864     ['block_10_depthwise_relu[0][0\n",
            "                                                                    ]']                           \n",
            "                                                                                                  \n",
            " block_10_project_BN (Batch  (None, 14, 14, 96)           384       ['block_10_project[0][0]']    \n",
            " Normalization)                                                                                   \n",
            "                                                                                                  \n",
            " block_11_expand (Conv2D)    (None, 14, 14, 576)          55296     ['block_10_project_BN[0][0]'] \n",
            "                                                                                                  \n",
            " block_11_expand_BN (BatchN  (None, 14, 14, 576)          2304      ['block_11_expand[0][0]']     \n",
            " ormalization)                                                                                    \n",
            "                                                                                                  \n",
            " block_11_expand_relu (ReLU  (None, 14, 14, 576)          0         ['block_11_expand_BN[0][0]']  \n",
            " )                                                                                                \n",
            "                                                                                                  \n",
            " block_11_depthwise (Depthw  (None, 14, 14, 576)          5184      ['block_11_expand_relu[0][0]']\n",
            " iseConv2D)                                                                                       \n",
            "                                                                                                  \n",
            " block_11_depthwise_BN (Bat  (None, 14, 14, 576)          2304      ['block_11_depthwise[0][0]']  \n",
            " chNormalization)                                                                                 \n",
            "                                                                                                  \n",
            " block_11_depthwise_relu (R  (None, 14, 14, 576)          0         ['block_11_depthwise_BN[0][0]'\n",
            " eLU)                                                               ]                             \n",
            "                                                                                                  \n",
            " block_11_project (Conv2D)   (None, 14, 14, 96)           55296     ['block_11_depthwise_relu[0][0\n",
            "                                                                    ]']                           \n",
            "                                                                                                  \n",
            " block_11_project_BN (Batch  (None, 14, 14, 96)           384       ['block_11_project[0][0]']    \n",
            " Normalization)                                                                                   \n",
            "                                                                                                  \n",
            " block_11_add (Add)          (None, 14, 14, 96)           0         ['block_10_project_BN[0][0]', \n",
            "                                                                     'block_11_project_BN[0][0]'] \n",
            "                                                                                                  \n",
            " block_12_expand (Conv2D)    (None, 14, 14, 576)          55296     ['block_11_add[0][0]']        \n",
            "                                                                                                  \n",
            " block_12_expand_BN (BatchN  (None, 14, 14, 576)          2304      ['block_12_expand[0][0]']     \n",
            " ormalization)                                                                                    \n",
            "                                                                                                  \n",
            " block_12_expand_relu (ReLU  (None, 14, 14, 576)          0         ['block_12_expand_BN[0][0]']  \n",
            " )                                                                                                \n",
            "                                                                                                  \n",
            " block_12_depthwise (Depthw  (None, 14, 14, 576)          5184      ['block_12_expand_relu[0][0]']\n",
            " iseConv2D)                                                                                       \n",
            "                                                                                                  \n",
            " block_12_depthwise_BN (Bat  (None, 14, 14, 576)          2304      ['block_12_depthwise[0][0]']  \n",
            " chNormalization)                                                                                 \n",
            "                                                                                                  \n",
            " block_12_depthwise_relu (R  (None, 14, 14, 576)          0         ['block_12_depthwise_BN[0][0]'\n",
            " eLU)                                                               ]                             \n",
            "                                                                                                  \n",
            " block_12_project (Conv2D)   (None, 14, 14, 96)           55296     ['block_12_depthwise_relu[0][0\n",
            "                                                                    ]']                           \n",
            "                                                                                                  \n",
            " block_12_project_BN (Batch  (None, 14, 14, 96)           384       ['block_12_project[0][0]']    \n",
            " Normalization)                                                                                   \n",
            "                                                                                                  \n",
            " block_12_add (Add)          (None, 14, 14, 96)           0         ['block_11_add[0][0]',        \n",
            "                                                                     'block_12_project_BN[0][0]'] \n",
            "                                                                                                  \n",
            " block_13_expand (Conv2D)    (None, 14, 14, 576)          55296     ['block_12_add[0][0]']        \n",
            "                                                                                                  \n",
            " block_13_expand_BN (BatchN  (None, 14, 14, 576)          2304      ['block_13_expand[0][0]']     \n",
            " ormalization)                                                                                    \n",
            "                                                                                                  \n",
            " block_13_expand_relu (ReLU  (None, 14, 14, 576)          0         ['block_13_expand_BN[0][0]']  \n",
            " )                                                                                                \n",
            "                                                                                                  \n",
            " block_13_pad (ZeroPadding2  (None, 15, 15, 576)          0         ['block_13_expand_relu[0][0]']\n",
            " D)                                                                                               \n",
            "                                                                                                  \n",
            " block_13_depthwise (Depthw  (None, 7, 7, 576)            5184      ['block_13_pad[0][0]']        \n",
            " iseConv2D)                                                                                       \n",
            "                                                                                                  \n",
            " block_13_depthwise_BN (Bat  (None, 7, 7, 576)            2304      ['block_13_depthwise[0][0]']  \n",
            " chNormalization)                                                                                 \n",
            "                                                                                                  \n",
            " block_13_depthwise_relu (R  (None, 7, 7, 576)            0         ['block_13_depthwise_BN[0][0]'\n",
            " eLU)                                                               ]                             \n",
            "                                                                                                  \n",
            " block_13_project (Conv2D)   (None, 7, 7, 160)            92160     ['block_13_depthwise_relu[0][0\n",
            "                                                                    ]']                           \n",
            "                                                                                                  \n",
            " block_13_project_BN (Batch  (None, 7, 7, 160)            640       ['block_13_project[0][0]']    \n",
            " Normalization)                                                                                   \n",
            "                                                                                                  \n",
            " block_14_expand (Conv2D)    (None, 7, 7, 960)            153600    ['block_13_project_BN[0][0]'] \n",
            "                                                                                                  \n",
            " block_14_expand_BN (BatchN  (None, 7, 7, 960)            3840      ['block_14_expand[0][0]']     \n",
            " ormalization)                                                                                    \n",
            "                                                                                                  \n",
            " block_14_expand_relu (ReLU  (None, 7, 7, 960)            0         ['block_14_expand_BN[0][0]']  \n",
            " )                                                                                                \n",
            "                                                                                                  \n",
            " block_14_depthwise (Depthw  (None, 7, 7, 960)            8640      ['block_14_expand_relu[0][0]']\n",
            " iseConv2D)                                                                                       \n",
            "                                                                                                  \n",
            " block_14_depthwise_BN (Bat  (None, 7, 7, 960)            3840      ['block_14_depthwise[0][0]']  \n",
            " chNormalization)                                                                                 \n",
            "                                                                                                  \n",
            " block_14_depthwise_relu (R  (None, 7, 7, 960)            0         ['block_14_depthwise_BN[0][0]'\n",
            " eLU)                                                               ]                             \n",
            "                                                                                                  \n",
            " block_14_project (Conv2D)   (None, 7, 7, 160)            153600    ['block_14_depthwise_relu[0][0\n",
            "                                                                    ]']                           \n",
            "                                                                                                  \n",
            " block_14_project_BN (Batch  (None, 7, 7, 160)            640       ['block_14_project[0][0]']    \n",
            " Normalization)                                                                                   \n",
            "                                                                                                  \n",
            " block_14_add (Add)          (None, 7, 7, 160)            0         ['block_13_project_BN[0][0]', \n",
            "                                                                     'block_14_project_BN[0][0]'] \n",
            "                                                                                                  \n",
            " block_15_expand (Conv2D)    (None, 7, 7, 960)            153600    ['block_14_add[0][0]']        \n",
            "                                                                                                  \n",
            " block_15_expand_BN (BatchN  (None, 7, 7, 960)            3840      ['block_15_expand[0][0]']     \n",
            " ormalization)                                                                                    \n",
            "                                                                                                  \n",
            " block_15_expand_relu (ReLU  (None, 7, 7, 960)            0         ['block_15_expand_BN[0][0]']  \n",
            " )                                                                                                \n",
            "                                                                                                  \n",
            " block_15_depthwise (Depthw  (None, 7, 7, 960)            8640      ['block_15_expand_relu[0][0]']\n",
            " iseConv2D)                                                                                       \n",
            "                                                                                                  \n",
            " block_15_depthwise_BN (Bat  (None, 7, 7, 960)            3840      ['block_15_depthwise[0][0]']  \n",
            " chNormalization)                                                                                 \n",
            "                                                                                                  \n",
            " block_15_depthwise_relu (R  (None, 7, 7, 960)            0         ['block_15_depthwise_BN[0][0]'\n",
            " eLU)                                                               ]                             \n",
            "                                                                                                  \n",
            " block_15_project (Conv2D)   (None, 7, 7, 160)            153600    ['block_15_depthwise_relu[0][0\n",
            "                                                                    ]']                           \n",
            "                                                                                                  \n",
            " block_15_project_BN (Batch  (None, 7, 7, 160)            640       ['block_15_project[0][0]']    \n",
            " Normalization)                                                                                   \n",
            "                                                                                                  \n",
            " block_15_add (Add)          (None, 7, 7, 160)            0         ['block_14_add[0][0]',        \n",
            "                                                                     'block_15_project_BN[0][0]'] \n",
            "                                                                                                  \n",
            " block_16_expand (Conv2D)    (None, 7, 7, 960)            153600    ['block_15_add[0][0]']        \n",
            "                                                                                                  \n",
            " block_16_expand_BN (BatchN  (None, 7, 7, 960)            3840      ['block_16_expand[0][0]']     \n",
            " ormalization)                                                                                    \n",
            "                                                                                                  \n",
            " block_16_expand_relu (ReLU  (None, 7, 7, 960)            0         ['block_16_expand_BN[0][0]']  \n",
            " )                                                                                                \n",
            "                                                                                                  \n",
            " block_16_depthwise (Depthw  (None, 7, 7, 960)            8640      ['block_16_expand_relu[0][0]']\n",
            " iseConv2D)                                                                                       \n",
            "                                                                                                  \n",
            " block_16_depthwise_BN (Bat  (None, 7, 7, 960)            3840      ['block_16_depthwise[0][0]']  \n",
            " chNormalization)                                                                                 \n",
            "                                                                                                  \n",
            " block_16_depthwise_relu (R  (None, 7, 7, 960)            0         ['block_16_depthwise_BN[0][0]'\n",
            " eLU)                                                               ]                             \n",
            "                                                                                                  \n",
            " block_16_project (Conv2D)   (None, 7, 7, 320)            307200    ['block_16_depthwise_relu[0][0\n",
            "                                                                    ]']                           \n",
            "                                                                                                  \n",
            " block_16_project_BN (Batch  (None, 7, 7, 320)            1280      ['block_16_project[0][0]']    \n",
            " Normalization)                                                                                   \n",
            "                                                                                                  \n",
            " Conv_1 (Conv2D)             (None, 7, 7, 1280)           409600    ['block_16_project_BN[0][0]'] \n",
            "                                                                                                  \n",
            " Conv_1_bn (BatchNormalizat  (None, 7, 7, 1280)           5120      ['Conv_1[0][0]']              \n",
            " ion)                                                                                             \n",
            "                                                                                                  \n",
            " out_relu (ReLU)             (None, 7, 7, 1280)           0         ['Conv_1_bn[0][0]']           \n",
            "                                                                                                  \n",
            " global_average_pooling2d (  (None, 1280)                 0         ['out_relu[0][0]']            \n",
            " GlobalAveragePooling2D)                                                                          \n",
            "                                                                                                  \n",
            " dense (Dense)               (None, 256)                  327936    ['global_average_pooling2d[0][\n",
            "                                                                    0]']                          \n",
            "                                                                                                  \n",
            " dense_1 (Dense)             (None, 142)                  36494     ['dense[0][0]']               \n",
            "                                                                                                  \n",
            "==================================================================================================\n",
            "Total params: 2622414 (10.00 MB)\n",
            "Trainable params: 364430 (1.39 MB)\n",
            "Non-trainable params: 2257984 (8.61 MB)\n",
            "__________________________________________________________________________________________________\n"
          ]
        }
      ],
      "source": [
        "# combine base model with custom layers\n",
        "model = Model(inputs=base_model.input, outputs=predictions)\n",
        "\n",
        "model.compile(optimizer='adam', loss='categorical_crossentropy', metrics=['accuracy'])\n",
        "\n",
        "model.summary() # summarize the model"
      ]
    },
    {
      "cell_type": "code",
      "execution_count": 30,
      "metadata": {},
      "outputs": [
        {
          "name": "stdout",
          "output_type": "stream",
          "text": [
            "Found 35536 validated image filenames belonging to 142 classes.\n"
          ]
        },
        {
          "name": "stderr",
          "output_type": "stream",
          "text": [
            "c:\\Users\\angel\\anaconda3\\envs\\MSC\\lib\\site-packages\\keras\\src\\preprocessing\\image.py:1137: UserWarning: Found 5 invalid image filename(s) in x_col=\"id\". These filename(s) will be ignored.\n",
            "  warnings.warn(\n"
          ]
        },
        {
          "name": "stdout",
          "output_type": "stream",
          "text": [
            "Found 8883 validated image filenames belonging to 142 classes.\n"
          ]
        },
        {
          "name": "stderr",
          "output_type": "stream",
          "text": [
            "c:\\Users\\angel\\anaconda3\\envs\\MSC\\lib\\site-packages\\keras\\src\\preprocessing\\image.py:1137: UserWarning: Found 5 invalid image filename(s) in x_col=\"id\". These filename(s) will be ignored.\n",
            "  warnings.warn(\n"
          ]
        }
      ],
      "source": [
        "from keras.preprocessing.image import ImageDataGenerator\n",
        "\n",
        "\n",
        "image_directory = \"Train_Images\\\\fashion-dataset\\\\images\"\n",
        "\n",
        "#data generator to normalize pixel values and create validation split\n",
        "datagen = ImageDataGenerator( \n",
        "    rescale=1./255.,\n",
        "    validation_split=0.2,\n",
        "    rotation_range=40,\n",
        "    width_shift_range=0.2,\n",
        "    height_shift_range=0.2,\n",
        "    shear_range=0.2,\n",
        "    zoom_range=0.2,\n",
        "    horizontal_flip=True,\n",
        "    fill_mode='nearest'\n",
        ")\n",
        "\n",
        "#train generator with x values from id and y values from article type of csv\n",
        "train_generator = datagen.flow_from_dataframe(\n",
        "    dataframe=sorted_train_csv,\n",
        "    directory=image_directory,\n",
        "    x_col=\"id\",\n",
        "    y_col=\"articleType\",\n",
        "    shuffle=True,\n",
        "    subset=\"training\",\n",
        "    class_mode=\"categorical\",\n",
        "    target_size=(224, 224),\n",
        "    batch_size=32\n",
        ")\n",
        "#validation generator\n",
        "validation_generator = datagen.flow_from_dataframe(\n",
        "    dataframe=sorted_train_csv,\n",
        "    directory=image_directory,\n",
        "    x_col=\"id\",\n",
        "    y_col=\"articleType\",\n",
        "    subset=\"validation\",\n",
        "    shuffle=True,\n",
        "    class_mode=\"categorical\",\n",
        "    target_size=(224, 224),\n",
        "    batch_size=32\n",
        ")\n"
      ]
    },
    {
      "cell_type": "code",
      "execution_count": 29,
      "metadata": {},
      "outputs": [
        {
          "name": "stdout",
          "output_type": "stream",
          "text": [
            "Epoch 1/50\n",
            "1110/1110 [==============================] - ETA: 0s - loss: 0.9628 - accuracy: 0.7319\n",
            "Epoch 1: val_accuracy improved from -inf to 0.76534, saving model to best_model.h5\n",
            "1110/1110 [==============================] - 1096s 987ms/step - loss: 0.9628 - accuracy: 0.7319 - val_loss: 0.7766 - val_accuracy: 0.7653\n",
            "Epoch 2/50\n"
          ]
        },
        {
          "name": "stderr",
          "output_type": "stream",
          "text": [
            "c:\\Users\\Ram\\anaconda3.0\\envs\\classifier\\lib\\site-packages\\keras\\src\\engine\\training.py:3000: UserWarning: You are saving your model as an HDF5 file via `model.save()`. This file format is considered legacy. We recommend using instead the native Keras format, e.g. `model.save('my_model.keras')`.\n",
            "  saving_api.save_model(\n"
          ]
        },
        {
          "name": "stdout",
          "output_type": "stream",
          "text": [
            "1110/1110 [==============================] - ETA: 0s - loss: 0.6308 - accuracy: 0.8027\n",
            "Epoch 2: val_accuracy improved from 0.76534 to 0.77674, saving model to best_model.h5\n",
            "1110/1110 [==============================] - 869s 783ms/step - loss: 0.6308 - accuracy: 0.8027 - val_loss: 0.7408 - val_accuracy: 0.7767\n",
            "Epoch 3/50\n",
            "1110/1110 [==============================] - ETA: 0s - loss: 0.5548 - accuracy: 0.8173\n",
            "Epoch 3: val_accuracy improved from 0.77674 to 0.78768, saving model to best_model.h5\n",
            "1110/1110 [==============================] - 1286s 1s/step - loss: 0.5548 - accuracy: 0.8173 - val_loss: 0.7026 - val_accuracy: 0.7877\n",
            "Epoch 4/50\n",
            "1110/1110 [==============================] - ETA: 0s - loss: 0.5131 - accuracy: 0.8276\n",
            "Epoch 4: val_accuracy improved from 0.78768 to 0.79028, saving model to best_model.h5\n",
            "1110/1110 [==============================] - 1221s 1s/step - loss: 0.5131 - accuracy: 0.8276 - val_loss: 0.7126 - val_accuracy: 0.7903\n",
            "Epoch 5/50\n",
            "1110/1110 [==============================] - ETA: 0s - loss: 0.4786 - accuracy: 0.8401\n",
            "Epoch 5: val_accuracy improved from 0.79028 to 0.79671, saving model to best_model.h5\n",
            "1110/1110 [==============================] - 1212s 1s/step - loss: 0.4786 - accuracy: 0.8401 - val_loss: 0.6892 - val_accuracy: 0.7967\n",
            "Epoch 6/50\n",
            "1110/1110 [==============================] - ETA: 0s - loss: 0.4552 - accuracy: 0.8461\n",
            "Epoch 6: val_accuracy did not improve from 0.79671\n",
            "1110/1110 [==============================] - 1214s 1s/step - loss: 0.4552 - accuracy: 0.8461 - val_loss: 0.7428 - val_accuracy: 0.7932\n",
            "Epoch 7/50\n",
            "1110/1110 [==============================] - ETA: 0s - loss: 0.4290 - accuracy: 0.8531\n",
            "Epoch 7: val_accuracy improved from 0.79671 to 0.79704, saving model to best_model.h5\n",
            "1110/1110 [==============================] - 1211s 1s/step - loss: 0.4290 - accuracy: 0.8531 - val_loss: 0.7421 - val_accuracy: 0.7970\n",
            "Epoch 8/50\n",
            "1110/1110 [==============================] - ETA: 0s - loss: 0.4145 - accuracy: 0.8555\n",
            "Epoch 8: val_accuracy improved from 0.79704 to 0.80144, saving model to best_model.h5\n",
            "1110/1110 [==============================] - 972s 876ms/step - loss: 0.4145 - accuracy: 0.8555 - val_loss: 0.7013 - val_accuracy: 0.8014\n",
            "Epoch 9/50\n",
            "1110/1110 [==============================] - ETA: 0s - loss: 0.4013 - accuracy: 0.8609\n",
            "Epoch 9: val_accuracy improved from 0.80144 to 0.80584, saving model to best_model.h5\n",
            "1110/1110 [==============================] - 622s 561ms/step - loss: 0.4013 - accuracy: 0.8609 - val_loss: 0.6916 - val_accuracy: 0.8058\n",
            "Epoch 10/50\n",
            "1110/1110 [==============================] - ETA: 0s - loss: 0.3912 - accuracy: 0.8640\n",
            "Epoch 10: val_accuracy improved from 0.80584 to 0.81182, saving model to best_model.h5\n",
            "1110/1110 [==============================] - 619s 558ms/step - loss: 0.3912 - accuracy: 0.8640 - val_loss: 0.7092 - val_accuracy: 0.8118\n",
            "Epoch 11/50\n",
            "1110/1110 [==============================] - ETA: 0s - loss: 0.3732 - accuracy: 0.8682\n",
            "Epoch 11: val_accuracy did not improve from 0.81182\n",
            "1110/1110 [==============================] - 860s 775ms/step - loss: 0.3732 - accuracy: 0.8682 - val_loss: 0.7877 - val_accuracy: 0.7985\n",
            "Epoch 12/50\n",
            "1110/1110 [==============================] - ETA: 0s - loss: 0.3676 - accuracy: 0.8705\n",
            "Epoch 12: val_accuracy did not improve from 0.81182\n",
            "1110/1110 [==============================] - 1179s 1s/step - loss: 0.3676 - accuracy: 0.8705 - val_loss: 0.7750 - val_accuracy: 0.7926\n",
            "Epoch 13/50\n",
            "1110/1110 [==============================] - ETA: 0s - loss: 0.3640 - accuracy: 0.8733\n",
            "Epoch 13: val_accuracy did not improve from 0.81182\n",
            "1110/1110 [==============================] - 1215s 1s/step - loss: 0.3640 - accuracy: 0.8733 - val_loss: 0.8120 - val_accuracy: 0.7978\n",
            "Epoch 14/50\n",
            "1110/1110 [==============================] - ETA: 0s - loss: 0.3512 - accuracy: 0.8743\n",
            "Epoch 14: val_accuracy did not improve from 0.81182\n",
            "1110/1110 [==============================] - 1215s 1s/step - loss: 0.3512 - accuracy: 0.8743 - val_loss: 0.7114 - val_accuracy: 0.8086\n",
            "Epoch 15/50\n",
            "1110/1110 [==============================] - ETA: 0s - loss: 0.3432 - accuracy: 0.8787\n",
            "Epoch 15: val_accuracy did not improve from 0.81182\n",
            "1110/1110 [==============================] - 1215s 1s/step - loss: 0.3432 - accuracy: 0.8787 - val_loss: 0.7447 - val_accuracy: 0.8044\n",
            "Epoch 16/50\n",
            "1110/1110 [==============================] - ETA: 0s - loss: 0.3297 - accuracy: 0.8837\n",
            "Epoch 16: val_accuracy did not improve from 0.81182\n",
            "1110/1110 [==============================] - 1234s 1s/step - loss: 0.3297 - accuracy: 0.8837 - val_loss: 0.7970 - val_accuracy: 0.7963\n",
            "Epoch 17/50\n",
            "1110/1110 [==============================] - ETA: 0s - loss: 0.3274 - accuracy: 0.8816\n",
            "Epoch 17: val_accuracy did not improve from 0.81182\n",
            "1110/1110 [==============================] - 1213s 1s/step - loss: 0.3274 - accuracy: 0.8816 - val_loss: 0.8499 - val_accuracy: 0.8002\n",
            "Epoch 18/50\n",
            "1110/1110 [==============================] - ETA: 0s - loss: 0.3224 - accuracy: 0.8832\n",
            "Epoch 18: val_accuracy did not improve from 0.81182\n",
            "1110/1110 [==============================] - 1215s 1s/step - loss: 0.3224 - accuracy: 0.8832 - val_loss: 0.8198 - val_accuracy: 0.8004\n",
            "Epoch 19/50\n",
            "1110/1110 [==============================] - ETA: 0s - loss: 0.3208 - accuracy: 0.8860\n",
            "Epoch 19: val_accuracy did not improve from 0.81182\n",
            "1110/1110 [==============================] - 1219s 1s/step - loss: 0.3208 - accuracy: 0.8860 - val_loss: 0.8238 - val_accuracy: 0.7964\n",
            "Epoch 20/50\n",
            "1110/1110 [==============================] - ETA: 0s - loss: 0.3101 - accuracy: 0.8873\n",
            "Epoch 20: val_accuracy did not improve from 0.81182\n",
            "1110/1110 [==============================] - 1228s 1s/step - loss: 0.3101 - accuracy: 0.8873 - val_loss: 0.8116 - val_accuracy: 0.7996\n",
            "Epoch 21/50\n",
            "1110/1110 [==============================] - ETA: 0s - loss: 0.3121 - accuracy: 0.8878\n",
            "Epoch 21: val_accuracy did not improve from 0.81182\n",
            "1110/1110 [==============================] - 1219s 1s/step - loss: 0.3121 - accuracy: 0.8878 - val_loss: 0.8014 - val_accuracy: 0.7964\n",
            "Epoch 22/50\n",
            "1110/1110 [==============================] - ETA: 0s - loss: 0.3041 - accuracy: 0.8934\n",
            "Epoch 22: val_accuracy did not improve from 0.81182\n",
            "1110/1110 [==============================] - 818s 736ms/step - loss: 0.3041 - accuracy: 0.8934 - val_loss: 0.8342 - val_accuracy: 0.8023\n",
            "Epoch 23/50\n",
            "1110/1110 [==============================] - ETA: 0s - loss: 0.3041 - accuracy: 0.8930\n",
            "Epoch 23: val_accuracy did not improve from 0.81182\n",
            "1110/1110 [==============================] - 703s 633ms/step - loss: 0.3041 - accuracy: 0.8930 - val_loss: 0.8658 - val_accuracy: 0.8048\n",
            "Epoch 24/50\n",
            "1110/1110 [==============================] - ETA: 0s - loss: 0.2974 - accuracy: 0.8932\n",
            "Epoch 24: val_accuracy did not improve from 0.81182\n",
            "1110/1110 [==============================] - 850s 766ms/step - loss: 0.2974 - accuracy: 0.8932 - val_loss: 0.8522 - val_accuracy: 0.8012\n",
            "Epoch 25/50\n",
            "1110/1110 [==============================] - ETA: 0s - loss: 0.2952 - accuracy: 0.8955\n",
            "Epoch 25: val_accuracy did not improve from 0.81182\n",
            "1110/1110 [==============================] - 771s 694ms/step - loss: 0.2952 - accuracy: 0.8955 - val_loss: 0.8938 - val_accuracy: 0.7998\n",
            "Epoch 26/50\n",
            "1110/1110 [==============================] - ETA: 0s - loss: 0.2902 - accuracy: 0.8953\n",
            "Epoch 26: val_accuracy did not improve from 0.81182\n",
            "1110/1110 [==============================] - 777s 700ms/step - loss: 0.2902 - accuracy: 0.8953 - val_loss: 0.9123 - val_accuracy: 0.8025\n",
            "Epoch 27/50\n",
            "1110/1110 [==============================] - ETA: 0s - loss: 0.2855 - accuracy: 0.8987\n",
            "Epoch 27: val_accuracy did not improve from 0.81182\n",
            "1110/1110 [==============================] - 654s 590ms/step - loss: 0.2855 - accuracy: 0.8987 - val_loss: 0.8688 - val_accuracy: 0.8022\n",
            "Epoch 28/50\n",
            "1110/1110 [==============================] - ETA: 0s - loss: 0.2836 - accuracy: 0.8981\n",
            "Epoch 28: val_accuracy did not improve from 0.81182\n",
            "1110/1110 [==============================] - 1243s 1s/step - loss: 0.2836 - accuracy: 0.8981 - val_loss: 0.8602 - val_accuracy: 0.8082\n",
            "Epoch 29/50\n",
            "1110/1110 [==============================] - ETA: 0s - loss: 0.2744 - accuracy: 0.9011\n",
            "Epoch 29: val_accuracy did not improve from 0.81182\n",
            "1110/1110 [==============================] - 1025s 923ms/step - loss: 0.2744 - accuracy: 0.9011 - val_loss: 0.8611 - val_accuracy: 0.8089\n",
            "Epoch 30/50\n",
            "1110/1110 [==============================] - ETA: 0s - loss: 0.2813 - accuracy: 0.8995\n",
            "Epoch 30: val_accuracy did not improve from 0.81182\n",
            "1110/1110 [==============================] - 876s 789ms/step - loss: 0.2813 - accuracy: 0.8995 - val_loss: 0.9794 - val_accuracy: 0.7982\n",
            "Epoch 31/50\n",
            "1110/1110 [==============================] - ETA: 0s - loss: 0.2753 - accuracy: 0.9019\n",
            "Epoch 31: val_accuracy did not improve from 0.81182\n",
            "1110/1110 [==============================] - 652s 587ms/step - loss: 0.2753 - accuracy: 0.9019 - val_loss: 0.9144 - val_accuracy: 0.7959\n",
            "Epoch 32/50\n",
            "1110/1110 [==============================] - ETA: 0s - loss: 0.2722 - accuracy: 0.9020\n",
            "Epoch 32: val_accuracy did not improve from 0.81182\n",
            "1110/1110 [==============================] - 1139s 1s/step - loss: 0.2722 - accuracy: 0.9020 - val_loss: 0.9285 - val_accuracy: 0.8004\n",
            "Epoch 33/50\n",
            "1110/1110 [==============================] - ETA: 0s - loss: 0.2690 - accuracy: 0.9054\n",
            "Epoch 33: val_accuracy did not improve from 0.81182\n",
            "1110/1110 [==============================] - 780s 703ms/step - loss: 0.2690 - accuracy: 0.9054 - val_loss: 0.9792 - val_accuracy: 0.8025\n",
            "Epoch 34/50\n",
            "1110/1110 [==============================] - ETA: 0s - loss: 0.2728 - accuracy: 0.9015\n",
            "Epoch 34: val_accuracy did not improve from 0.81182\n",
            "1110/1110 [==============================] - 1157s 1s/step - loss: 0.2728 - accuracy: 0.9015 - val_loss: 0.9620 - val_accuracy: 0.7952\n",
            "Epoch 35/50\n",
            "1110/1110 [==============================] - ETA: 0s - loss: 0.2700 - accuracy: 0.9035\n",
            "Epoch 35: val_accuracy did not improve from 0.81182\n",
            "1110/1110 [==============================] - 1262s 1s/step - loss: 0.2700 - accuracy: 0.9035 - val_loss: 0.9670 - val_accuracy: 0.8040\n",
            "Epoch 36/50\n",
            "1110/1110 [==============================] - ETA: 0s - loss: 0.2675 - accuracy: 0.9061\n",
            "Epoch 36: val_accuracy did not improve from 0.81182\n",
            "1110/1110 [==============================] - 1263s 1s/step - loss: 0.2675 - accuracy: 0.9061 - val_loss: 1.0039 - val_accuracy: 0.7919\n",
            "Epoch 37/50\n",
            "1110/1110 [==============================] - ETA: 0s - loss: 0.2671 - accuracy: 0.9057\n",
            "Epoch 37: val_accuracy did not improve from 0.81182\n",
            "1110/1110 [==============================] - 1260s 1s/step - loss: 0.2671 - accuracy: 0.9057 - val_loss: 0.9236 - val_accuracy: 0.8083\n",
            "Epoch 38/50\n",
            "1110/1110 [==============================] - ETA: 0s - loss: 0.2565 - accuracy: 0.9081\n",
            "Epoch 38: val_accuracy did not improve from 0.81182\n",
            "1110/1110 [==============================] - 1260s 1s/step - loss: 0.2565 - accuracy: 0.9081 - val_loss: 1.0289 - val_accuracy: 0.7933\n",
            "Epoch 39/50\n",
            "1110/1110 [==============================] - ETA: 0s - loss: 0.2591 - accuracy: 0.9066\n",
            "Epoch 39: val_accuracy did not improve from 0.81182\n",
            "1110/1110 [==============================] - 1274s 1s/step - loss: 0.2591 - accuracy: 0.9066 - val_loss: 1.0103 - val_accuracy: 0.7974\n",
            "Epoch 40/50\n",
            "1110/1110 [==============================] - ETA: 0s - loss: 0.2575 - accuracy: 0.9074\n",
            "Epoch 40: val_accuracy did not improve from 0.81182\n",
            "1110/1110 [==============================] - 1277s 1s/step - loss: 0.2575 - accuracy: 0.9074 - val_loss: 0.9994 - val_accuracy: 0.8016\n",
            "Epoch 41/50\n",
            "1110/1110 [==============================] - ETA: 0s - loss: 0.2513 - accuracy: 0.9111\n",
            "Epoch 41: val_accuracy did not improve from 0.81182\n",
            "1110/1110 [==============================] - 1245s 1s/step - loss: 0.2513 - accuracy: 0.9111 - val_loss: 1.0084 - val_accuracy: 0.7978\n",
            "Epoch 42/50\n",
            "1110/1110 [==============================] - ETA: 0s - loss: 0.2530 - accuracy: 0.9103\n",
            "Epoch 42: val_accuracy did not improve from 0.81182\n",
            "1110/1110 [==============================] - 1260s 1s/step - loss: 0.2530 - accuracy: 0.9103 - val_loss: 0.9570 - val_accuracy: 0.8005\n",
            "Epoch 43/50\n",
            "1110/1110 [==============================] - ETA: 0s - loss: 0.2517 - accuracy: 0.9109\n",
            "Epoch 43: val_accuracy did not improve from 0.81182\n",
            "1110/1110 [==============================] - 1293s 1s/step - loss: 0.2517 - accuracy: 0.9109 - val_loss: 1.0091 - val_accuracy: 0.7958\n",
            "Epoch 44/50\n",
            "1110/1110 [==============================] - ETA: 0s - loss: 0.2531 - accuracy: 0.9095\n",
            "Epoch 44: val_accuracy did not improve from 0.81182\n",
            "1110/1110 [==============================] - 1276s 1s/step - loss: 0.2531 - accuracy: 0.9095 - val_loss: 1.0575 - val_accuracy: 0.7911\n",
            "Epoch 45/50\n",
            "1110/1110 [==============================] - ETA: 0s - loss: 0.2468 - accuracy: 0.9120\n",
            "Epoch 45: val_accuracy did not improve from 0.81182\n",
            "1110/1110 [==============================] - 1262s 1s/step - loss: 0.2468 - accuracy: 0.9120 - val_loss: 1.0100 - val_accuracy: 0.8025\n",
            "Epoch 46/50\n",
            "1110/1110 [==============================] - ETA: 0s - loss: 0.2498 - accuracy: 0.9115\n",
            "Epoch 46: val_accuracy did not improve from 0.81182\n",
            "1110/1110 [==============================] - 1262s 1s/step - loss: 0.2498 - accuracy: 0.9115 - val_loss: 1.0099 - val_accuracy: 0.8056\n",
            "Epoch 47/50\n",
            "1110/1110 [==============================] - ETA: 0s - loss: 0.2481 - accuracy: 0.9133\n",
            "Epoch 47: val_accuracy did not improve from 0.81182\n",
            "1110/1110 [==============================] - 1261s 1s/step - loss: 0.2481 - accuracy: 0.9133 - val_loss: 1.0813 - val_accuracy: 0.7990\n",
            "Epoch 48/50\n",
            "1110/1110 [==============================] - ETA: 0s - loss: 0.2380 - accuracy: 0.9148\n",
            "Epoch 48: val_accuracy did not improve from 0.81182\n",
            "1110/1110 [==============================] - 1280s 1s/step - loss: 0.2380 - accuracy: 0.9148 - val_loss: 1.0555 - val_accuracy: 0.8032\n",
            "Epoch 49/50\n",
            "1110/1110 [==============================] - ETA: 0s - loss: 0.2439 - accuracy: 0.9132\n",
            "Epoch 49: val_accuracy did not improve from 0.81182\n",
            "1110/1110 [==============================] - 1293s 1s/step - loss: 0.2439 - accuracy: 0.9132 - val_loss: 1.0561 - val_accuracy: 0.8037\n",
            "Epoch 50/50\n",
            "1110/1110 [==============================] - ETA: 0s - loss: 0.2363 - accuracy: 0.9148\n",
            "Epoch 50: val_accuracy did not improve from 0.81182\n",
            "1110/1110 [==============================] - 1260s 1s/step - loss: 0.2363 - accuracy: 0.9148 - val_loss: 1.1015 - val_accuracy: 0.7926\n"
          ]
        }
      ],
      "source": [
        "from keras.callbacks import ModelCheckpoint\n",
        "\n",
        "\n",
        "checkpoint = ModelCheckpoint('best_model.h5', \n",
        "                             monitor='val_accuracy',\n",
        "                             verbose=1,\n",
        "                             save_best_only=True,\n",
        "                             mode='max')\n",
        "\n",
        "callbacks_list = [checkpoint]\n",
        "\n",
        "with tf.device('/GPU:0'): #using GPU\n",
        "    # Train the model\n",
        "    history = model.fit(\n",
        "        train_generator,\n",
        "        validation_data=validation_generator,\n",
        "        epochs=50,\n",
        "        steps_per_epoch=train_generator.samples // train_generator.batch_size,\n",
        "        validation_steps=validation_generator.samples // validation_generator.batch_size,\n",
        "        callbacks=callbacks_list)"
      ]
    },
    {
      "cell_type": "code",
      "execution_count": 32,
      "metadata": {},
      "outputs": [
        {
          "name": "stdout",
          "output_type": "stream",
          "text": [
            "278/278 [==============================] - 649s 2s/step - loss: 0.6909 - accuracy: 0.8168\n",
            "Validation Loss: 0.6909303069114685\n",
            "Validation Accuracy: 0.816841185092926\n"
          ]
        }
      ],
      "source": [
        "# Load model\n",
        "model = keras.models.load_model(\"best_model.h5\")\n",
        "\n",
        "\n",
        "validation_loss, validation_accuracy = model.evaluate(validation_generator) # validate with generator \n",
        "\n",
        "print(f\"Validation Loss: {validation_loss}\")\n",
        "print(f\"Validation Accuracy: {validation_accuracy}\")\n"
      ]
    },
    {
      "cell_type": "code",
      "execution_count": 4,
      "metadata": {},
      "outputs": [],
      "source": [
        "model = keras.models.load_model(\"best_model.h5\")"
      ]
    },
    {
      "cell_type": "code",
      "execution_count": 13,
      "metadata": {},
      "outputs": [
        {
          "name": "stdout",
          "output_type": "stream",
          "text": [
            "1/1 [==============================] - 0s 51ms/step\n"
          ]
        },
        {
          "data": {
            "image/png": "[encoded data removed]",
            "text/plain": [
              "<Figure size 800x800 with 1 Axes>"
            ]
          },
          "metadata": {},
          "output_type": "display_data"
        },
        {
          "name": "stdout",
          "output_type": "stream",
          "text": [
            "id                                      17857.jpg\n",
            "gender                                        Men\n",
            "masterCategory                            Apparel\n",
            "subCategory                             Innerwear\n",
            "articleType                                 Trunk\n",
            "baseColour                                   Grey\n",
            "season                                     Summer\n",
            "year                                       2016.0\n",
            "usage                                      Casual\n",
            "productDisplayName    Levis Men Boxer Grey Trunks\n",
            "Name: 43037, dtype: object\n"
          ]
        }
      ],
      "source": [
        "from keras.applications.mobilenet_v2 import preprocess_input\n",
        "\n",
        "def recognize_and_visualize(image_path, model, dataframe):\n",
        "    # Load the image \n",
        "    image = cv2.imread(image_path)\n",
        "    original_image = image.copy()\n",
        "    image = cv2.cvtColor(image, cv2.COLOR_BGR2RGB)  # Convert from BGR to RGB\n",
        "    \n",
        "    # Resize \n",
        "    image = cv2.resize(image, (224, 224))\n",
        "    \n",
        "    # Use MobileNetV2's preprocess_input\n",
        "    image_array = preprocess_input(image)\n",
        "    image_array = np.expand_dims(image_array, axis=0)\n",
        "\n",
        "    # Make prediction\n",
        "    predictions = model.predict(image_array)\n",
        "    predicted_class_index = np.argmax(predictions, axis=1)[0]\n",
        "\n",
        "    \n",
        "    class_label = sorted(dataframe['articleType'].unique())[predicted_class_index]\n",
        "\n",
        "    # Fetch details \n",
        "    recognized_object_details = dataframe[dataframe['articleType'] == class_label].iloc[0]\n",
        "\n",
        "    # show img\n",
        "    plt.figure(figsize=(8, 8))\n",
        "    plt.imshow(cv2.cvtColor(original_image, cv2.COLOR_BGR2RGB))\n",
        "    plt.title(f\"Recognized as: {recognized_object_details['articleType']}\")\n",
        "    plt.axis('off')\n",
        "    plt.show()\n",
        "\n",
        "    return recognized_object_details\n",
        "\n",
        "# Test the function\n",
        "image_path = \"1163.jpg\" # give image path\n",
        "recognized_details = recognize_and_visualize(image_path, model, sorted_train_csv) # pass image to function to predict\n",
        "print(recognized_details)\n"
      ]
    },
    {
      "cell_type": "code",
      "execution_count": null,
      "metadata": {
        "id": "NlY2g9A0uA1s"
      },
      "outputs": [],
      "source": [
        "'''for image in test_images:\n",
        "    src = os.path.join('/content/Train_Images/fashion-dataset/fashion-dataset/images', image)\n",
        "    dst = test_files_new_path\n",
        "    #os.makedirs(dst, exist_ok=True)\n",
        "    shutil.move(src, dst)'''"
      ]
    },
    {
      "cell_type": "code",
      "execution_count": null,
      "metadata": {
        "id": "BO5RfG9rxbH2"
      },
      "outputs": [],
      "source": [
        "'''datagen = ImageDataGenerator(\n",
        "    rescale=1.0/255.0,\n",
        ")'''\n"
      ]
    },
    {
      "cell_type": "code",
      "execution_count": null,
      "metadata": {
        "colab": {
          "base_uri": "https://localhost:8080/"
        },
        "id": "YeOileX7zIWP",
        "outputId": "aad3c091-1d6e-40d4-b090-2fb3e692c412"
      },
      "outputs": [
        {
          "name": "stdout",
          "output_type": "stream",
          "text": [
            "Found 24000 validated image filenames belonging to 104 classes.\n"
          ]
        }
      ],
      "source": [
        "'''batch_size = 8  # Adjust batch size as needed\n",
        "train_generator = datagen.flow_from_dataframe(\n",
        "    train_csv,\n",
        "\n",
        "    directory='/content/Train_Images/fashion-dataset/fashion-dataset/images',\n",
        "    x_col='id',  # Replace with the column name for image names in your CSV\n",
        "    y_col='articleType',  # Replace with the column name for class numbers in your CSV\n",
        "    target_size=(224, 224),\n",
        "    batch_size=batch_size,\n",
        "    class_mode='categorical',\n",
        "      # Change to 'sparse' if class numbers are integer values\n",
        "    shuffle=True,\n",
        "    validation_split=0.2\n",
        ")'''"
      ]
    },
    {
      "cell_type": "code",
      "execution_count": null,
      "metadata": {
        "colab": {
          "base_uri": "https://localhost:8080/"
        },
        "id": "Yo3QTz2r0Que",
        "outputId": "e238ccb6-d6fe-4b3e-a851-d53f5adb05b9"
      },
      "outputs": [
        {
          "name": "stdout",
          "output_type": "stream",
          "text": [
            "Found 6000 validated image filenames belonging to 94 classes.\n"
          ]
        }
      ],
      "source": [
        "'''batch_size = 8  # Adjust batch size as needed\n",
        "test_generator = datagen.flow_from_dataframe(\n",
        "    test_csv,\n",
        "\n",
        "    directory='/content/Test_Images_Actual',\n",
        "    x_col='id',  # Replace with the column name for image names in your CSV\n",
        "    y_col='articleType',  # Replace with the column name for class numbers in your CSV\n",
        "    target_size=(224, 224),\n",
        "    batch_size=batch_size,\n",
        "    class_mode='categorical',\n",
        "      # Change to 'sparse' if class numbers are integer values\n",
        "    shuffle=False,\n",
        "\n",
        ")'''"
      ]
    },
    {
      "cell_type": "code",
      "execution_count": null,
      "metadata": {
        "id": "aAxYzPyf3Jjr"
      },
      "outputs": [],
      "source": [
        "'''model.add(Conv2D(16, (3,3), 1, activation='relu', input_shape=(224,224,3)))\n",
        "model.add(MaxPooling2D())\n",
        "model.add(Conv2D(32, (3,3), 1, activation='relu'))\n",
        "model.add(MaxPooling2D())\n",
        "model.add(Conv2D(16, (3,3), 1, activation='relu'))\n",
        "model.add(MaxPooling2D())\n",
        "model.add(Flatten())\n",
        "model.add(Dense(256, activation='relu'))\n",
        "model.add(Dense(142, activation='softmax'))'''"
      ]
    },
    {
      "cell_type": "code",
      "execution_count": null,
      "metadata": {
        "colab": {
          "base_uri": "https://localhost:8080/"
        },
        "id": "TWEcUcDp5EP6",
        "outputId": "54a8500d-d4c5-4ad1-dc37-48002b998e28"
      },
      "outputs": [
        {
          "name": "stdout",
          "output_type": "stream",
          "text": [
            "Downloading data from https://storage.googleapis.com/tensorflow/keras-applications/mobilenet_v2/mobilenet_v2_weights_tf_dim_ordering_tf_kernels_1.0_224_no_top.h5\n",
            "9406464/9406464 [==============================] - 0s 0us/step\n"
          ]
        }
      ],
      "source": [
        "'''# Load MobileNetV2 pre-trained on ImageNet\n",
        "base_model = MobileNetV2(weights='imagenet', include_top=False, input_shape=(224, 224, 3))'''"
      ]
    },
    {
      "cell_type": "code",
      "execution_count": null,
      "metadata": {
        "id": "aKjNIg-W5Q3D"
      },
      "outputs": [],
      "source": [
        "'''# Add custom layers on top\n",
        "x = base_model.output\n",
        "x = GlobalAveragePooling2D()(x)\n",
        "x = Dense(256, activation='relu')(x)\n",
        "predictions = Dense(104, activation='softmax')(x)'''"
      ]
    },
    {
      "cell_type": "code",
      "execution_count": null,
      "metadata": {
        "id": "Av__wpRM5cp-"
      },
      "outputs": [],
      "source": [
        "'''model = Model(inputs=base_model.input, outputs=predictions)'''"
      ]
    },
    {
      "cell_type": "code",
      "execution_count": null,
      "metadata": {
        "id": "GQcpGEM03P3l"
      },
      "outputs": [],
      "source": [
        "'''model.compile(optimizer='adam', loss='categorical_crossentropy', metrics=['accuracy'])'''"
      ]
    },
    {
      "cell_type": "code",
      "execution_count": null,
      "metadata": {
        "colab": {
          "base_uri": "https://localhost:8080/"
        },
        "id": "SlHd5gW93Vxe",
        "outputId": "941bc29c-19e9-467d-f3da-ddbe7a23b41a"
      },
      "outputs": [
        {
          "name": "stdout",
          "output_type": "stream",
          "text": [
            "Model: \"model_1\"\n",
            "__________________________________________________________________________________________________\n",
            " Layer (type)                   Output Shape         Param #     Connected to                     \n",
            "==================================================================================================\n",
            " input_1 (InputLayer)           [(None, 224, 224, 3  0           []                               \n",
            "                                )]                                                                \n",
            "                                                                                                  \n",
            " Conv1 (Conv2D)                 (None, 112, 112, 32  864         ['input_1[0][0]']                \n",
            "                                )                                                                 \n",
            "                                                                                                  \n",
            " bn_Conv1 (BatchNormalization)  (None, 112, 112, 32  128         ['Conv1[0][0]']                  \n",
            "                                )                                                                 \n",
            "                                                                                                  \n",
            " Conv1_relu (ReLU)              (None, 112, 112, 32  0           ['bn_Conv1[0][0]']               \n",
            "                                )                                                                 \n",
            "                                                                                                  \n",
            " expanded_conv_depthwise (Depth  (None, 112, 112, 32  288        ['Conv1_relu[0][0]']             \n",
            " wiseConv2D)                    )                                                                 \n",
            "                                                                                                  \n",
            " expanded_conv_depthwise_BN (Ba  (None, 112, 112, 32  128        ['expanded_conv_depthwise[0][0]']\n",
            " tchNormalization)              )                                                                 \n",
            "                                                                                                  \n",
            " expanded_conv_depthwise_relu (  (None, 112, 112, 32  0          ['expanded_conv_depthwise_BN[0][0\n",
            " ReLU)                          )                                ]']                              \n",
            "                                                                                                  \n",
            " expanded_conv_project (Conv2D)  (None, 112, 112, 16  512        ['expanded_conv_depthwise_relu[0]\n",
            "                                )                                [0]']                            \n",
            "                                                                                                  \n",
            " expanded_conv_project_BN (Batc  (None, 112, 112, 16  64         ['expanded_conv_project[0][0]']  \n",
            " hNormalization)                )                                                                 \n",
            "                                                                                                  \n",
            " block_1_expand (Conv2D)        (None, 112, 112, 96  1536        ['expanded_conv_project_BN[0][0]'\n",
            "                                )                                ]                                \n",
            "                                                                                                  \n",
            " block_1_expand_BN (BatchNormal  (None, 112, 112, 96  384        ['block_1_expand[0][0]']         \n",
            " ization)                       )                                                                 \n",
            "                                                                                                  \n",
            " block_1_expand_relu (ReLU)     (None, 112, 112, 96  0           ['block_1_expand_BN[0][0]']      \n",
            "                                )                                                                 \n",
            "                                                                                                  \n",
            " block_1_pad (ZeroPadding2D)    (None, 113, 113, 96  0           ['block_1_expand_relu[0][0]']    \n",
            "                                )                                                                 \n",
            "                                                                                                  \n",
            " block_1_depthwise (DepthwiseCo  (None, 56, 56, 96)  864         ['block_1_pad[0][0]']            \n",
            " nv2D)                                                                                            \n",
            "                                                                                                  \n",
            " block_1_depthwise_BN (BatchNor  (None, 56, 56, 96)  384         ['block_1_depthwise[0][0]']      \n",
            " malization)                                                                                      \n",
            "                                                                                                  \n",
            " block_1_depthwise_relu (ReLU)  (None, 56, 56, 96)   0           ['block_1_depthwise_BN[0][0]']   \n",
            "                                                                                                  \n",
            " block_1_project (Conv2D)       (None, 56, 56, 24)   2304        ['block_1_depthwise_relu[0][0]'] \n",
            "                                                                                                  \n",
            " block_1_project_BN (BatchNorma  (None, 56, 56, 24)  96          ['block_1_project[0][0]']        \n",
            " lization)                                                                                        \n",
            "                                                                                                  \n",
            " block_2_expand (Conv2D)        (None, 56, 56, 144)  3456        ['block_1_project_BN[0][0]']     \n",
            "                                                                                                  \n",
            " block_2_expand_BN (BatchNormal  (None, 56, 56, 144)  576        ['block_2_expand[0][0]']         \n",
            " ization)                                                                                         \n",
            "                                                                                                  \n",
            " block_2_expand_relu (ReLU)     (None, 56, 56, 144)  0           ['block_2_expand_BN[0][0]']      \n",
            "                                                                                                  \n",
            " block_2_depthwise (DepthwiseCo  (None, 56, 56, 144)  1296       ['block_2_expand_relu[0][0]']    \n",
            " nv2D)                                                                                            \n",
            "                                                                                                  \n",
            " block_2_depthwise_BN (BatchNor  (None, 56, 56, 144)  576        ['block_2_depthwise[0][0]']      \n",
            " malization)                                                                                      \n",
            "                                                                                                  \n",
            " block_2_depthwise_relu (ReLU)  (None, 56, 56, 144)  0           ['block_2_depthwise_BN[0][0]']   \n",
            "                                                                                                  \n",
            " block_2_project (Conv2D)       (None, 56, 56, 24)   3456        ['block_2_depthwise_relu[0][0]'] \n",
            "                                                                                                  \n",
            " block_2_project_BN (BatchNorma  (None, 56, 56, 24)  96          ['block_2_project[0][0]']        \n",
            " lization)                                                                                        \n",
            "                                                                                                  \n",
            " block_2_add (Add)              (None, 56, 56, 24)   0           ['block_1_project_BN[0][0]',     \n",
            "                                                                  'block_2_project_BN[0][0]']     \n",
            "                                                                                                  \n",
            " block_3_expand (Conv2D)        (None, 56, 56, 144)  3456        ['block_2_add[0][0]']            \n",
            "                                                                                                  \n",
            " block_3_expand_BN (BatchNormal  (None, 56, 56, 144)  576        ['block_3_expand[0][0]']         \n",
            " ization)                                                                                         \n",
            "                                                                                                  \n",
            " block_3_expand_relu (ReLU)     (None, 56, 56, 144)  0           ['block_3_expand_BN[0][0]']      \n",
            "                                                                                                  \n",
            " block_3_pad (ZeroPadding2D)    (None, 57, 57, 144)  0           ['block_3_expand_relu[0][0]']    \n",
            "                                                                                                  \n",
            " block_3_depthwise (DepthwiseCo  (None, 28, 28, 144)  1296       ['block_3_pad[0][0]']            \n",
            " nv2D)                                                                                            \n",
            "                                                                                                  \n",
            " block_3_depthwise_BN (BatchNor  (None, 28, 28, 144)  576        ['block_3_depthwise[0][0]']      \n",
            " malization)                                                                                      \n",
            "                                                                                                  \n",
            " block_3_depthwise_relu (ReLU)  (None, 28, 28, 144)  0           ['block_3_depthwise_BN[0][0]']   \n",
            "                                                                                                  \n",
            " block_3_project (Conv2D)       (None, 28, 28, 32)   4608        ['block_3_depthwise_relu[0][0]'] \n",
            "                                                                                                  \n",
            " block_3_project_BN (BatchNorma  (None, 28, 28, 32)  128         ['block_3_project[0][0]']        \n",
            " lization)                                                                                        \n",
            "                                                                                                  \n",
            " block_4_expand (Conv2D)        (None, 28, 28, 192)  6144        ['block_3_project_BN[0][0]']     \n",
            "                                                                                                  \n",
            " block_4_expand_BN (BatchNormal  (None, 28, 28, 192)  768        ['block_4_expand[0][0]']         \n",
            " ization)                                                                                         \n",
            "                                                                                                  \n",
            " block_4_expand_relu (ReLU)     (None, 28, 28, 192)  0           ['block_4_expand_BN[0][0]']      \n",
            "                                                                                                  \n",
            " block_4_depthwise (DepthwiseCo  (None, 28, 28, 192)  1728       ['block_4_expand_relu[0][0]']    \n",
            " nv2D)                                                                                            \n",
            "                                                                                                  \n",
            " block_4_depthwise_BN (BatchNor  (None, 28, 28, 192)  768        ['block_4_depthwise[0][0]']      \n",
            " malization)                                                                                      \n",
            "                                                                                                  \n",
            " block_4_depthwise_relu (ReLU)  (None, 28, 28, 192)  0           ['block_4_depthwise_BN[0][0]']   \n",
            "                                                                                                  \n",
            " block_4_project (Conv2D)       (None, 28, 28, 32)   6144        ['block_4_depthwise_relu[0][0]'] \n",
            "                                                                                                  \n",
            " block_4_project_BN (BatchNorma  (None, 28, 28, 32)  128         ['block_4_project[0][0]']        \n",
            " lization)                                                                                        \n",
            "                                                                                                  \n",
            " block_4_add (Add)              (None, 28, 28, 32)   0           ['block_3_project_BN[0][0]',     \n",
            "                                                                  'block_4_project_BN[0][0]']     \n",
            "                                                                                                  \n",
            " block_5_expand (Conv2D)        (None, 28, 28, 192)  6144        ['block_4_add[0][0]']            \n",
            "                                                                                                  \n",
            " block_5_expand_BN (BatchNormal  (None, 28, 28, 192)  768        ['block_5_expand[0][0]']         \n",
            " ization)                                                                                         \n",
            "                                                                                                  \n",
            " block_5_expand_relu (ReLU)     (None, 28, 28, 192)  0           ['block_5_expand_BN[0][0]']      \n",
            "                                                                                                  \n",
            " block_5_depthwise (DepthwiseCo  (None, 28, 28, 192)  1728       ['block_5_expand_relu[0][0]']    \n",
            " nv2D)                                                                                            \n",
            "                                                                                                  \n",
            " block_5_depthwise_BN (BatchNor  (None, 28, 28, 192)  768        ['block_5_depthwise[0][0]']      \n",
            " malization)                                                                                      \n",
            "                                                                                                  \n",
            " block_5_depthwise_relu (ReLU)  (None, 28, 28, 192)  0           ['block_5_depthwise_BN[0][0]']   \n",
            "                                                                                                  \n",
            " block_5_project (Conv2D)       (None, 28, 28, 32)   6144        ['block_5_depthwise_relu[0][0]'] \n",
            "                                                                                                  \n",
            " block_5_project_BN (BatchNorma  (None, 28, 28, 32)  128         ['block_5_project[0][0]']        \n",
            " lization)                                                                                        \n",
            "                                                                                                  \n",
            " block_5_add (Add)              (None, 28, 28, 32)   0           ['block_4_add[0][0]',            \n",
            "                                                                  'block_5_project_BN[0][0]']     \n",
            "                                                                                                  \n",
            " block_6_expand (Conv2D)        (None, 28, 28, 192)  6144        ['block_5_add[0][0]']            \n",
            "                                                                                                  \n",
            " block_6_expand_BN (BatchNormal  (None, 28, 28, 192)  768        ['block_6_expand[0][0]']         \n",
            " ization)                                                                                         \n",
            "                                                                                                  \n",
            " block_6_expand_relu (ReLU)     (None, 28, 28, 192)  0           ['block_6_expand_BN[0][0]']      \n",
            "                                                                                                  \n",
            " block_6_pad (ZeroPadding2D)    (None, 29, 29, 192)  0           ['block_6_expand_relu[0][0]']    \n",
            "                                                                                                  \n",
            " block_6_depthwise (DepthwiseCo  (None, 14, 14, 192)  1728       ['block_6_pad[0][0]']            \n",
            " nv2D)                                                                                            \n",
            "                                                                                                  \n",
            " block_6_depthwise_BN (BatchNor  (None, 14, 14, 192)  768        ['block_6_depthwise[0][0]']      \n",
            " malization)                                                                                      \n",
            "                                                                                                  \n",
            " block_6_depthwise_relu (ReLU)  (None, 14, 14, 192)  0           ['block_6_depthwise_BN[0][0]']   \n",
            "                                                                                                  \n",
            " block_6_project (Conv2D)       (None, 14, 14, 64)   12288       ['block_6_depthwise_relu[0][0]'] \n",
            "                                                                                                  \n",
            " block_6_project_BN (BatchNorma  (None, 14, 14, 64)  256         ['block_6_project[0][0]']        \n",
            " lization)                                                                                        \n",
            "                                                                                                  \n",
            " block_7_expand (Conv2D)        (None, 14, 14, 384)  24576       ['block_6_project_BN[0][0]']     \n",
            "                                                                                                  \n",
            " block_7_expand_BN (BatchNormal  (None, 14, 14, 384)  1536       ['block_7_expand[0][0]']         \n",
            " ization)                                                                                         \n",
            "                                                                                                  \n",
            " block_7_expand_relu (ReLU)     (None, 14, 14, 384)  0           ['block_7_expand_BN[0][0]']      \n",
            "                                                                                                  \n",
            " block_7_depthwise (DepthwiseCo  (None, 14, 14, 384)  3456       ['block_7_expand_relu[0][0]']    \n",
            " nv2D)                                                                                            \n",
            "                                                                                                  \n",
            " block_7_depthwise_BN (BatchNor  (None, 14, 14, 384)  1536       ['block_7_depthwise[0][0]']      \n",
            " malization)                                                                                      \n",
            "                                                                                                  \n",
            " block_7_depthwise_relu (ReLU)  (None, 14, 14, 384)  0           ['block_7_depthwise_BN[0][0]']   \n",
            "                                                                                                  \n",
            " block_7_project (Conv2D)       (None, 14, 14, 64)   24576       ['block_7_depthwise_relu[0][0]'] \n",
            "                                                                                                  \n",
            " block_7_project_BN (BatchNorma  (None, 14, 14, 64)  256         ['block_7_project[0][0]']        \n",
            " lization)                                                                                        \n",
            "                                                                                                  \n",
            " block_7_add (Add)              (None, 14, 14, 64)   0           ['block_6_project_BN[0][0]',     \n",
            "                                                                  'block_7_project_BN[0][0]']     \n",
            "                                                                                                  \n",
            " block_8_expand (Conv2D)        (None, 14, 14, 384)  24576       ['block_7_add[0][0]']            \n",
            "                                                                                                  \n",
            " block_8_expand_BN (BatchNormal  (None, 14, 14, 384)  1536       ['block_8_expand[0][0]']         \n",
            " ization)                                                                                         \n",
            "                                                                                                  \n",
            " block_8_expand_relu (ReLU)     (None, 14, 14, 384)  0           ['block_8_expand_BN[0][0]']      \n",
            "                                                                                                  \n",
            " block_8_depthwise (DepthwiseCo  (None, 14, 14, 384)  3456       ['block_8_expand_relu[0][0]']    \n",
            " nv2D)                                                                                            \n",
            "                                                                                                  \n",
            " block_8_depthwise_BN (BatchNor  (None, 14, 14, 384)  1536       ['block_8_depthwise[0][0]']      \n",
            " malization)                                                                                      \n",
            "                                                                                                  \n",
            " block_8_depthwise_relu (ReLU)  (None, 14, 14, 384)  0           ['block_8_depthwise_BN[0][0]']   \n",
            "                                                                                                  \n",
            " block_8_project (Conv2D)       (None, 14, 14, 64)   24576       ['block_8_depthwise_relu[0][0]'] \n",
            "                                                                                                  \n",
            " block_8_project_BN (BatchNorma  (None, 14, 14, 64)  256         ['block_8_project[0][0]']        \n",
            " lization)                                                                                        \n",
            "                                                                                                  \n",
            " block_8_add (Add)              (None, 14, 14, 64)   0           ['block_7_add[0][0]',            \n",
            "                                                                  'block_8_project_BN[0][0]']     \n",
            "                                                                                                  \n",
            " block_9_expand (Conv2D)        (None, 14, 14, 384)  24576       ['block_8_add[0][0]']            \n",
            "                                                                                                  \n",
            " block_9_expand_BN (BatchNormal  (None, 14, 14, 384)  1536       ['block_9_expand[0][0]']         \n",
            " ization)                                                                                         \n",
            "                                                                                                  \n",
            " block_9_expand_relu (ReLU)     (None, 14, 14, 384)  0           ['block_9_expand_BN[0][0]']      \n",
            "                                                                                                  \n",
            " block_9_depthwise (DepthwiseCo  (None, 14, 14, 384)  3456       ['block_9_expand_relu[0][0]']    \n",
            " nv2D)                                                                                            \n",
            "                                                                                                  \n",
            " block_9_depthwise_BN (BatchNor  (None, 14, 14, 384)  1536       ['block_9_depthwise[0][0]']      \n",
            " malization)                                                                                      \n",
            "                                                                                                  \n",
            " block_9_depthwise_relu (ReLU)  (None, 14, 14, 384)  0           ['block_9_depthwise_BN[0][0]']   \n",
            "                                                                                                  \n",
            " block_9_project (Conv2D)       (None, 14, 14, 64)   24576       ['block_9_depthwise_relu[0][0]'] \n",
            "                                                                                                  \n",
            " block_9_project_BN (BatchNorma  (None, 14, 14, 64)  256         ['block_9_project[0][0]']        \n",
            " lization)                                                                                        \n",
            "                                                                                                  \n",
            " block_9_add (Add)              (None, 14, 14, 64)   0           ['block_8_add[0][0]',            \n",
            "                                                                  'block_9_project_BN[0][0]']     \n",
            "                                                                                                  \n",
            " block_10_expand (Conv2D)       (None, 14, 14, 384)  24576       ['block_9_add[0][0]']            \n",
            "                                                                                                  \n",
            " block_10_expand_BN (BatchNorma  (None, 14, 14, 384)  1536       ['block_10_expand[0][0]']        \n",
            " lization)                                                                                        \n",
            "                                                                                                  \n",
            " block_10_expand_relu (ReLU)    (None, 14, 14, 384)  0           ['block_10_expand_BN[0][0]']     \n",
            "                                                                                                  \n",
            " block_10_depthwise (DepthwiseC  (None, 14, 14, 384)  3456       ['block_10_expand_relu[0][0]']   \n",
            " onv2D)                                                                                           \n",
            "                                                                                                  \n",
            " block_10_depthwise_BN (BatchNo  (None, 14, 14, 384)  1536       ['block_10_depthwise[0][0]']     \n",
            " rmalization)                                                                                     \n",
            "                                                                                                  \n",
            " block_10_depthwise_relu (ReLU)  (None, 14, 14, 384)  0          ['block_10_depthwise_BN[0][0]']  \n",
            "                                                                                                  \n",
            " block_10_project (Conv2D)      (None, 14, 14, 96)   36864       ['block_10_depthwise_relu[0][0]']\n",
            "                                                                                                  \n",
            " block_10_project_BN (BatchNorm  (None, 14, 14, 96)  384         ['block_10_project[0][0]']       \n",
            " alization)                                                                                       \n",
            "                                                                                                  \n",
            " block_11_expand (Conv2D)       (None, 14, 14, 576)  55296       ['block_10_project_BN[0][0]']    \n",
            "                                                                                                  \n",
            " block_11_expand_BN (BatchNorma  (None, 14, 14, 576)  2304       ['block_11_expand[0][0]']        \n",
            " lization)                                                                                        \n",
            "                                                                                                  \n",
            " block_11_expand_relu (ReLU)    (None, 14, 14, 576)  0           ['block_11_expand_BN[0][0]']     \n",
            "                                                                                                  \n",
            " block_11_depthwise (DepthwiseC  (None, 14, 14, 576)  5184       ['block_11_expand_relu[0][0]']   \n",
            " onv2D)                                                                                           \n",
            "                                                                                                  \n",
            " block_11_depthwise_BN (BatchNo  (None, 14, 14, 576)  2304       ['block_11_depthwise[0][0]']     \n",
            " rmalization)                                                                                     \n",
            "                                                                                                  \n",
            " block_11_depthwise_relu (ReLU)  (None, 14, 14, 576)  0          ['block_11_depthwise_BN[0][0]']  \n",
            "                                                                                                  \n",
            " block_11_project (Conv2D)      (None, 14, 14, 96)   55296       ['block_11_depthwise_relu[0][0]']\n",
            "                                                                                                  \n",
            " block_11_project_BN (BatchNorm  (None, 14, 14, 96)  384         ['block_11_project[0][0]']       \n",
            " alization)                                                                                       \n",
            "                                                                                                  \n",
            " block_11_add (Add)             (None, 14, 14, 96)   0           ['block_10_project_BN[0][0]',    \n",
            "                                                                  'block_11_project_BN[0][0]']    \n",
            "                                                                                                  \n",
            " block_12_expand (Conv2D)       (None, 14, 14, 576)  55296       ['block_11_add[0][0]']           \n",
            "                                                                                                  \n",
            " block_12_expand_BN (BatchNorma  (None, 14, 14, 576)  2304       ['block_12_expand[0][0]']        \n",
            " lization)                                                                                        \n",
            "                                                                                                  \n",
            " block_12_expand_relu (ReLU)    (None, 14, 14, 576)  0           ['block_12_expand_BN[0][0]']     \n",
            "                                                                                                  \n",
            " block_12_depthwise (DepthwiseC  (None, 14, 14, 576)  5184       ['block_12_expand_relu[0][0]']   \n",
            " onv2D)                                                                                           \n",
            "                                                                                                  \n",
            " block_12_depthwise_BN (BatchNo  (None, 14, 14, 576)  2304       ['block_12_depthwise[0][0]']     \n",
            " rmalization)                                                                                     \n",
            "                                                                                                  \n",
            " block_12_depthwise_relu (ReLU)  (None, 14, 14, 576)  0          ['block_12_depthwise_BN[0][0]']  \n",
            "                                                                                                  \n",
            " block_12_project (Conv2D)      (None, 14, 14, 96)   55296       ['block_12_depthwise_relu[0][0]']\n",
            "                                                                                                  \n",
            " block_12_project_BN (BatchNorm  (None, 14, 14, 96)  384         ['block_12_project[0][0]']       \n",
            " alization)                                                                                       \n",
            "                                                                                                  \n",
            " block_12_add (Add)             (None, 14, 14, 96)   0           ['block_11_add[0][0]',           \n",
            "                                                                  'block_12_project_BN[0][0]']    \n",
            "                                                                                                  \n",
            " block_13_expand (Conv2D)       (None, 14, 14, 576)  55296       ['block_12_add[0][0]']           \n",
            "                                                                                                  \n",
            " block_13_expand_BN (BatchNorma  (None, 14, 14, 576)  2304       ['block_13_expand[0][0]']        \n",
            " lization)                                                                                        \n",
            "                                                                                                  \n",
            " block_13_expand_relu (ReLU)    (None, 14, 14, 576)  0           ['block_13_expand_BN[0][0]']     \n",
            "                                                                                                  \n",
            " block_13_pad (ZeroPadding2D)   (None, 15, 15, 576)  0           ['block_13_expand_relu[0][0]']   \n",
            "                                                                                                  \n",
            " block_13_depthwise (DepthwiseC  (None, 7, 7, 576)   5184        ['block_13_pad[0][0]']           \n",
            " onv2D)                                                                                           \n",
            "                                                                                                  \n",
            " block_13_depthwise_BN (BatchNo  (None, 7, 7, 576)   2304        ['block_13_depthwise[0][0]']     \n",
            " rmalization)                                                                                     \n",
            "                                                                                                  \n",
            " block_13_depthwise_relu (ReLU)  (None, 7, 7, 576)   0           ['block_13_depthwise_BN[0][0]']  \n",
            "                                                                                                  \n",
            " block_13_project (Conv2D)      (None, 7, 7, 160)    92160       ['block_13_depthwise_relu[0][0]']\n",
            "                                                                                                  \n",
            " block_13_project_BN (BatchNorm  (None, 7, 7, 160)   640         ['block_13_project[0][0]']       \n",
            " alization)                                                                                       \n",
            "                                                                                                  \n",
            " block_14_expand (Conv2D)       (None, 7, 7, 960)    153600      ['block_13_project_BN[0][0]']    \n",
            "                                                                                                  \n",
            " block_14_expand_BN (BatchNorma  (None, 7, 7, 960)   3840        ['block_14_expand[0][0]']        \n",
            " lization)                                                                                        \n",
            "                                                                                                  \n",
            " block_14_expand_relu (ReLU)    (None, 7, 7, 960)    0           ['block_14_expand_BN[0][0]']     \n",
            "                                                                                                  \n",
            " block_14_depthwise (DepthwiseC  (None, 7, 7, 960)   8640        ['block_14_expand_relu[0][0]']   \n",
            " onv2D)                                                                                           \n",
            "                                                                                                  \n",
            " block_14_depthwise_BN (BatchNo  (None, 7, 7, 960)   3840        ['block_14_depthwise[0][0]']     \n",
            " rmalization)                                                                                     \n",
            "                                                                                                  \n",
            " block_14_depthwise_relu (ReLU)  (None, 7, 7, 960)   0           ['block_14_depthwise_BN[0][0]']  \n",
            "                                                                                                  \n",
            " block_14_project (Conv2D)      (None, 7, 7, 160)    153600      ['block_14_depthwise_relu[0][0]']\n",
            "                                                                                                  \n",
            " block_14_project_BN (BatchNorm  (None, 7, 7, 160)   640         ['block_14_project[0][0]']       \n",
            " alization)                                                                                       \n",
            "                                                                                                  \n",
            " block_14_add (Add)             (None, 7, 7, 160)    0           ['block_13_project_BN[0][0]',    \n",
            "                                                                  'block_14_project_BN[0][0]']    \n",
            "                                                                                                  \n",
            " block_15_expand (Conv2D)       (None, 7, 7, 960)    153600      ['block_14_add[0][0]']           \n",
            "                                                                                                  \n",
            " block_15_expand_BN (BatchNorma  (None, 7, 7, 960)   3840        ['block_15_expand[0][0]']        \n",
            " lization)                                                                                        \n",
            "                                                                                                  \n",
            " block_15_expand_relu (ReLU)    (None, 7, 7, 960)    0           ['block_15_expand_BN[0][0]']     \n",
            "                                                                                                  \n",
            " block_15_depthwise (DepthwiseC  (None, 7, 7, 960)   8640        ['block_15_expand_relu[0][0]']   \n",
            " onv2D)                                                                                           \n",
            "                                                                                                  \n",
            " block_15_depthwise_BN (BatchNo  (None, 7, 7, 960)   3840        ['block_15_depthwise[0][0]']     \n",
            " rmalization)                                                                                     \n",
            "                                                                                                  \n",
            " block_15_depthwise_relu (ReLU)  (None, 7, 7, 960)   0           ['block_15_depthwise_BN[0][0]']  \n",
            "                                                                                                  \n",
            " block_15_project (Conv2D)      (None, 7, 7, 160)    153600      ['block_15_depthwise_relu[0][0]']\n",
            "                                                                                                  \n",
            " block_15_project_BN (BatchNorm  (None, 7, 7, 160)   640         ['block_15_project[0][0]']       \n",
            " alization)                                                                                       \n",
            "                                                                                                  \n",
            " block_15_add (Add)             (None, 7, 7, 160)    0           ['block_14_add[0][0]',           \n",
            "                                                                  'block_15_project_BN[0][0]']    \n",
            "                                                                                                  \n",
            " block_16_expand (Conv2D)       (None, 7, 7, 960)    153600      ['block_15_add[0][0]']           \n",
            "                                                                                                  \n",
            " block_16_expand_BN (BatchNorma  (None, 7, 7, 960)   3840        ['block_16_expand[0][0]']        \n",
            " lization)                                                                                        \n",
            "                                                                                                  \n",
            " block_16_expand_relu (ReLU)    (None, 7, 7, 960)    0           ['block_16_expand_BN[0][0]']     \n",
            "                                                                                                  \n",
            " block_16_depthwise (DepthwiseC  (None, 7, 7, 960)   8640        ['block_16_expand_relu[0][0]']   \n",
            " onv2D)                                                                                           \n",
            "                                                                                                  \n",
            " block_16_depthwise_BN (BatchNo  (None, 7, 7, 960)   3840        ['block_16_depthwise[0][0]']     \n",
            " rmalization)                                                                                     \n",
            "                                                                                                  \n",
            " block_16_depthwise_relu (ReLU)  (None, 7, 7, 960)   0           ['block_16_depthwise_BN[0][0]']  \n",
            "                                                                                                  \n",
            " block_16_project (Conv2D)      (None, 7, 7, 320)    307200      ['block_16_depthwise_relu[0][0]']\n",
            "                                                                                                  \n",
            " block_16_project_BN (BatchNorm  (None, 7, 7, 320)   1280        ['block_16_project[0][0]']       \n",
            " alization)                                                                                       \n",
            "                                                                                                  \n",
            " Conv_1 (Conv2D)                (None, 7, 7, 1280)   409600      ['block_16_project_BN[0][0]']    \n",
            "                                                                                                  \n",
            " Conv_1_bn (BatchNormalization)  (None, 7, 7, 1280)  5120        ['Conv_1[0][0]']                 \n",
            "                                                                                                  \n",
            " out_relu (ReLU)                (None, 7, 7, 1280)   0           ['Conv_1_bn[0][0]']              \n",
            "                                                                                                  \n",
            " global_average_pooling2d_2 (Gl  (None, 1280)        0           ['out_relu[0][0]']               \n",
            " obalAveragePooling2D)                                                                            \n",
            "                                                                                                  \n",
            " dense_4 (Dense)                (None, 256)          327936      ['global_average_pooling2d_2[0][0\n",
            "                                                                 ]']                              \n",
            "                                                                                                  \n",
            " dense_5 (Dense)                (None, 104)          26728       ['dense_4[0][0]']                \n",
            "                                                                                                  \n",
            "==================================================================================================\n",
            "Total params: 2,612,648\n",
            "Trainable params: 2,578,536\n",
            "Non-trainable params: 34,112\n",
            "__________________________________________________________________________________________________\n"
          ]
        }
      ],
      "source": [
        "'''model.summary()'''"
      ]
    },
    {
      "cell_type": "code",
      "execution_count": null,
      "metadata": {
        "colab": {
          "base_uri": "https://localhost:8080/"
        },
        "id": "-Uzps5mV3bbm",
        "outputId": "1bb02cf5-65cc-4ba5-b853-2c6955bec3bc"
      },
      "outputs": [
        {
          "name": "stdout",
          "output_type": "stream",
          "text": [
            "Epoch 1/20\n",
            "750/750 [==============================] - 630s 797ms/step - loss: 0.6473 - accuracy: 0.8224\n",
            "Epoch 2/20\n",
            "750/750 [==============================] - 571s 761ms/step - loss: 0.4325 - accuracy: 0.8650\n",
            "Epoch 3/20\n",
            "750/750 [==============================] - 559s 746ms/step - loss: 0.3751 - accuracy: 0.8810\n",
            "Epoch 4/20\n",
            "750/750 [==============================] - 564s 752ms/step - loss: 0.3401 - accuracy: 0.8916\n",
            "Epoch 5/20\n",
            "750/750 [==============================] - 563s 751ms/step - loss: 0.3011 - accuracy: 0.9022\n",
            "Epoch 6/20\n",
            "750/750 [==============================] - 554s 739ms/step - loss: 0.2733 - accuracy: 0.9104\n",
            "Epoch 7/20\n",
            "750/750 [==============================] - 552s 735ms/step - loss: 0.2527 - accuracy: 0.9145\n",
            "Epoch 8/20\n",
            "750/750 [==============================] - 556s 741ms/step - loss: 0.2226 - accuracy: 0.9252\n",
            "Epoch 9/20\n",
            "750/750 [==============================] - 561s 748ms/step - loss: 0.2188 - accuracy: 0.9264\n",
            "Epoch 10/20\n",
            "750/750 [==============================] - 548s 731ms/step - loss: 0.1879 - accuracy: 0.9385\n",
            "Epoch 11/20\n",
            "750/750 [==============================] - 551s 735ms/step - loss: 0.1699 - accuracy: 0.9407\n",
            "Epoch 12/20\n",
            "750/750 [==============================] - 569s 758ms/step - loss: 0.1669 - accuracy: 0.9442\n",
            "Epoch 13/20\n",
            "750/750 [==============================] - 569s 758ms/step - loss: 0.1562 - accuracy: 0.9484\n",
            "Epoch 14/20\n",
            "750/750 [==============================] - 559s 745ms/step - loss: 0.1446 - accuracy: 0.9512\n",
            "Epoch 15/20\n",
            "750/750 [==============================] - 550s 734ms/step - loss: 0.1296 - accuracy: 0.9557\n",
            "Epoch 16/20\n",
            "750/750 [==============================] - 556s 741ms/step - loss: 0.1147 - accuracy: 0.9625\n",
            "Epoch 17/20\n",
            "147/750 [====>.........................] - ETA: 7:13 - loss: 0.0971 - accuracy: 0.9688"
          ]
        }
      ],
      "source": [
        "'''model.fit(train_generator, epochs=60)'''"
      ]
    },
    {
      "cell_type": "code",
      "execution_count": null,
      "metadata": {
        "id": "3gFLZEEaNkhc"
      },
      "outputs": [],
      "source": [
        "'''model.save('/content/Model/ProductClassifier.h5')'''\n"
      ]
    },
    {
      "cell_type": "code",
      "execution_count": null,
      "metadata": {
        "id": "EFyftomWdHAE"
      },
      "outputs": [],
      "source": [
        "'''trained_model = load_model('/content/Model/ProductClassifier.h5')'''"
      ]
    },
    {
      "cell_type": "code",
      "execution_count": null,
      "metadata": {
        "colab": {
          "base_uri": "https://localhost:8080/"
        },
        "id": "EjTaR8Jddh97",
        "outputId": "c178b9dd-8b26-44fa-f50e-c87c996ab225"
      },
      "outputs": [
        {
          "name": "stdout",
          "output_type": "stream",
          "text": [
            "157/157 [==============================] - 175s 1s/step\n"
          ]
        }
      ],
      "source": [
        "'''predictions = trained_model.predict(test_generator)'''\n"
      ]
    },
    {
      "cell_type": "code",
      "execution_count": null,
      "metadata": {
        "colab": {
          "base_uri": "https://localhost:8080/"
        },
        "id": "6R2vQU0r7AKW",
        "outputId": "e249588d-a472-4991-a97e-6a29dfd3b5d5"
      },
      "outputs": [
        {
          "data": {
            "text/plain": [
              "(5000, 97)"
            ]
          },
          "execution_count": 37,
          "metadata": {},
          "output_type": "execute_result"
        }
      ],
      "source": [
        "'''predictions.shape'''"
      ]
    },
    {
      "cell_type": "code",
      "execution_count": null,
      "metadata": {
        "id": "00RyxnnlkJpP"
      },
      "outputs": [],
      "source": [
        "'''pred_labels = np.argmax(predictions, axis=1)'''"
      ]
    },
    {
      "cell_type": "code",
      "execution_count": null,
      "metadata": {
        "colab": {
          "base_uri": "https://localhost:8080/"
        },
        "id": "BE-_ti4ikYE2",
        "outputId": "541552dd-727a-46c8-b012-978a62bfa0f7"
      },
      "outputs": [
        {
          "data": {
            "text/plain": [
              "array([14, 89, 83, ..., 43, 41, 64])"
            ]
          },
          "execution_count": 39,
          "metadata": {},
          "output_type": "execute_result"
        }
      ],
      "source": [
        "'''pred_labels'''"
      ]
    },
    {
      "cell_type": "code",
      "execution_count": null,
      "metadata": {
        "colab": {
          "base_uri": "https://localhost:8080/"
        },
        "id": "ol1C9sRzmPAz",
        "outputId": "53f65048-0bac-4383-b0ce-7ef98fd9e54a"
      },
      "outputs": [
        {
          "name": "stdout",
          "output_type": "stream",
          "text": [
            "{'Sports Shoes': 0, 'Tshirts': 1, 'Sweaters': 2, 'Trousers': 3, 'Tops': 4, 'Sunglasses': 5, 'Clutches': 6, 'Casual Shoes': 7, 'Handbags': 8, 'Belts': 9, 'Heels': 10, 'Flip Flops': 11, 'Watches': 12, 'Stoles': 13, 'Jackets': 14, 'Formal Shoes': 15, 'Shirts': 16, 'Socks': 17, 'Wallets': 18, 'Deodorant': 19, 'Kurta Sets': 20, 'Backpacks': 21, 'Kurtas': 22, 'Shorts': 23, 'Sandals': 24, 'Kurtis': 25, 'Ties': 26, 'Dupatta': 27, 'Jeans': 28, 'Nehru Jackets': 29, 'Sweatshirts': 30, 'Stockings': 31, 'Mobile Pouch': 32, 'Track Pants': 33, 'Perfume and Body Mist': 34, 'Dresses': 35, 'Camisoles': 36, 'Flats': 37, 'Trunk': 38, 'Innerwear Vests': 39, 'Cufflinks': 40, 'Briefs': 41, 'Leggings': 42, 'Suspenders': 43, 'Capris': 44, 'Gloves': 45, 'Booties': 46, 'Mufflers': 47, 'Bra': 48, 'Patiala': 49, 'Tunics': 50, 'Duffel Bag': 51, 'Skirts': 52, 'Sports Sandals': 53, 'Tracksuits': 54, 'Pendant': 55, 'Caps': 56, 'Scarves': 57, 'Clothing Set': 58, 'Sarees': 59, 'Messenger Bag': 60, 'Accessory Gift Set': 61, 'Lounge Pants': 62, 'Earrings': 63, 'Shoe Accessories': 64, 'Bangle': 65, 'Fragrance Gift Set': 66, 'Laptop Bag': 67, 'Water Bottle': 68, 'Rompers': 69, 'Night suits': 70, 'Boxers': 71, 'Jeggings': 72, 'Churidar': 73, 'Headband': 74, 'Nightdress': 75, 'Free Gifts': 76, 'Waistcoat': 77, 'Basketballs': 78, 'Umbrellas': 79, 'Swimwear': 80, 'Travel Accessory': 81, 'Blazers': 82, 'Salwar': 83, 'Hat': 84, 'Waist Pouch': 85, 'Tights': 86, 'Lounge Shorts': 87, 'Tablet Sleeve': 88, 'Trolley Bag': 89}\n"
          ]
        }
      ],
      "source": [
        "'''category_dictionary = {}  # Initialize an empty dictionary\n",
        "\n",
        "# Iterate through the unique article types and assign class numbers\n",
        "unique_labels = test_csv['articleType'].unique()\n",
        "for num, label_type in enumerate(unique_labels):\n",
        "    category_dictionary[label_type] = num\n",
        "\n",
        "print(category_dictionary)'''\n"
      ]
    },
    {
      "cell_type": "code",
      "execution_count": null,
      "metadata": {
        "colab": {
          "base_uri": "https://localhost:8080/"
        },
        "id": "RNP0j7ySuxOo",
        "outputId": "9bf4e645-6126-45ee-dfaa-93f21eb502aa"
      },
      "outputs": [
        {
          "name": "stdout",
          "output_type": "stream",
          "text": [
            "{0: 'Sports Shoes', 1: 'Tshirts', 2: 'Sweaters', 3: 'Trousers', 4: 'Tops', 5: 'Sunglasses', 6: 'Clutches', 7: 'Casual Shoes', 8: 'Handbags', 9: 'Belts', 10: 'Heels', 11: 'Flip Flops', 12: 'Watches', 13: 'Stoles', 14: 'Jackets', 15: 'Formal Shoes', 16: 'Shirts', 17: 'Socks', 18: 'Wallets', 19: 'Deodorant', 20: 'Kurta Sets', 21: 'Backpacks', 22: 'Kurtas', 23: 'Shorts', 24: 'Sandals', 25: 'Kurtis', 26: 'Ties', 27: 'Dupatta', 28: 'Jeans', 29: 'Nehru Jackets', 30: 'Sweatshirts', 31: 'Stockings', 32: 'Mobile Pouch', 33: 'Track Pants', 34: 'Perfume and Body Mist', 35: 'Dresses', 36: 'Camisoles', 37: 'Flats', 38: 'Trunk', 39: 'Innerwear Vests', 40: 'Cufflinks', 41: 'Briefs', 42: 'Leggings', 43: 'Suspenders', 44: 'Capris', 45: 'Gloves', 46: 'Booties', 47: 'Mufflers', 48: 'Bra', 49: 'Patiala', 50: 'Tunics', 51: 'Duffel Bag', 52: 'Skirts', 53: 'Sports Sandals', 54: 'Tracksuits', 55: 'Pendant', 56: 'Caps', 57: 'Scarves', 58: 'Clothing Set', 59: 'Sarees', 60: 'Messenger Bag', 61: 'Accessory Gift Set', 62: 'Lounge Pants', 63: 'Earrings', 64: 'Shoe Accessories', 65: 'Bangle', 66: 'Fragrance Gift Set', 67: 'Laptop Bag', 68: 'Water Bottle', 69: 'Rompers', 70: 'Night suits', 71: 'Boxers', 72: 'Jeggings', 73: 'Churidar', 74: 'Headband', 75: 'Nightdress', 76: 'Free Gifts', 77: 'Waistcoat', 78: 'Basketballs', 79: 'Umbrellas', 80: 'Swimwear', 81: 'Travel Accessory', 82: 'Blazers', 83: 'Salwar', 84: 'Hat', 85: 'Waist Pouch', 86: 'Tights', 87: 'Lounge Shorts', 88: 'Tablet Sleeve', 89: 'Trolley Bag'}\n"
          ]
        }
      ],
      "source": [
        "'''true_category_dictionary = {}  # Initialize an empty dictionary\n",
        "\n",
        "# Iterate through the unique article types and assign class numbers\n",
        "unique_labels = test_csv['articleType'].unique()\n",
        "for num, label_type in enumerate(unique_labels):\n",
        "    true_category_dictionary[num] = label_type\n",
        "\n",
        "print(true_category_dictionary)'''\n"
      ]
    },
    {
      "cell_type": "code",
      "execution_count": null,
      "metadata": {
        "colab": {
          "base_uri": "https://localhost:8080/"
        },
        "id": "9NnpjNaNrq5k",
        "outputId": "88dfbbad-5186-4f86-d5aa-1460d994d3ae"
      },
      "outputs": [
        {
          "name": "stderr",
          "output_type": "stream",
          "text": [
            "/usr/local/lib/python3.10/dist-packages/sklearn/metrics/_classification.py:1344: UndefinedMetricWarning: Precision is ill-defined and being set to 0.0 in labels with no predicted samples. Use `zero_division` parameter to control this behavior.\n",
            "  _warn_prf(average, modifier, msg_start, len(result))\n"
          ]
        }
      ],
      "source": [
        "precision = precision_score(true_test_labels, pred_labels,average='weighted')\n",
        "accuracy = accuracy_score(true_test_labels, pred_labels)\n",
        "#recall = recall_score(true_test_labels, pred_labels, average='weighted')\n"
      ]
    },
    {
      "cell_type": "code",
      "execution_count": null,
      "metadata": {
        "colab": {
          "base_uri": "https://localhost:8080/"
        },
        "id": "mVlMIOkir1qF",
        "outputId": "405e7966-156b-45d3-8930-17639abec6d9"
      },
      "outputs": [
        {
          "name": "stdout",
          "output_type": "stream",
          "text": [
            "Precision: 0.8045\n",
            "Accuracy: 0.7286\n"
          ]
        }
      ],
      "source": [
        "print(f\"Precision: {precision:.4f}\")\n",
        "print(f\"Accuracy: {accuracy:.4f}\")\n",
        "#print(f\"Recall: {recall:.4f}\")"
      ]
    }
  ],
  "metadata": {
    "colab": {
      "provenance": []
    },
    "kernelspec": {
      "display_name": "base",
      "language": "python",
      "name": "python3"
    },
    "language_info": {
      "codemirror_mode": {
        "name": "ipython",
        "version": 3
      },
      "file_extension": ".py",
      "mimetype": "text/x-python",
      "name": "python",
      "nbconvert_exporter": "python",
      "pygments_lexer": "ipython3",
      "version": "3.8.0"
    }
  },
  "nbformat": 4,
  "nbformat_minor": 0
}
